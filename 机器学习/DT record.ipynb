{
 "cells": [
  {
   "cell_type": "code",
   "id": "initial_id",
   "metadata": {
    "collapsed": true,
    "ExecuteTime": {
     "end_time": "2024-11-14T21:34:31.446902Z",
     "start_time": "2024-11-14T21:34:31.441654Z"
    }
   },
   "source": [
    "from pyexpat import features\n",
    "\n",
    "from sklearn import tree\n",
    "from sklearn.datasets import load_wine\n",
    "from sklearn.model_selection import train_test_split"
   ],
   "outputs": [],
   "execution_count": 197
  },
  {
   "metadata": {
    "ExecuteTime": {
     "end_time": "2024-11-14T21:34:31.468691Z",
     "start_time": "2024-11-14T21:34:31.462588Z"
    }
   },
   "cell_type": "code",
   "source": [
    "wine = load_wine()\n",
    "wine"
   ],
   "id": "9e6c3f08f07f28a3",
   "outputs": [
    {
     "data": {
      "text/plain": [
       "{'data': array([[1.423e+01, 1.710e+00, 2.430e+00, ..., 1.040e+00, 3.920e+00,\n",
       "         1.065e+03],\n",
       "        [1.320e+01, 1.780e+00, 2.140e+00, ..., 1.050e+00, 3.400e+00,\n",
       "         1.050e+03],\n",
       "        [1.316e+01, 2.360e+00, 2.670e+00, ..., 1.030e+00, 3.170e+00,\n",
       "         1.185e+03],\n",
       "        ...,\n",
       "        [1.327e+01, 4.280e+00, 2.260e+00, ..., 5.900e-01, 1.560e+00,\n",
       "         8.350e+02],\n",
       "        [1.317e+01, 2.590e+00, 2.370e+00, ..., 6.000e-01, 1.620e+00,\n",
       "         8.400e+02],\n",
       "        [1.413e+01, 4.100e+00, 2.740e+00, ..., 6.100e-01, 1.600e+00,\n",
       "         5.600e+02]]),\n",
       " 'target': array([0, 0, 0, 0, 0, 0, 0, 0, 0, 0, 0, 0, 0, 0, 0, 0, 0, 0, 0, 0, 0, 0,\n",
       "        0, 0, 0, 0, 0, 0, 0, 0, 0, 0, 0, 0, 0, 0, 0, 0, 0, 0, 0, 0, 0, 0,\n",
       "        0, 0, 0, 0, 0, 0, 0, 0, 0, 0, 0, 0, 0, 0, 0, 1, 1, 1, 1, 1, 1, 1,\n",
       "        1, 1, 1, 1, 1, 1, 1, 1, 1, 1, 1, 1, 1, 1, 1, 1, 1, 1, 1, 1, 1, 1,\n",
       "        1, 1, 1, 1, 1, 1, 1, 1, 1, 1, 1, 1, 1, 1, 1, 1, 1, 1, 1, 1, 1, 1,\n",
       "        1, 1, 1, 1, 1, 1, 1, 1, 1, 1, 1, 1, 1, 1, 1, 1, 1, 1, 1, 1, 2, 2,\n",
       "        2, 2, 2, 2, 2, 2, 2, 2, 2, 2, 2, 2, 2, 2, 2, 2, 2, 2, 2, 2, 2, 2,\n",
       "        2, 2, 2, 2, 2, 2, 2, 2, 2, 2, 2, 2, 2, 2, 2, 2, 2, 2, 2, 2, 2, 2,\n",
       "        2, 2]),\n",
       " 'frame': None,\n",
       " 'target_names': array(['class_0', 'class_1', 'class_2'], dtype='<U7'),\n",
       " 'DESCR': '.. _wine_dataset:\\n\\nWine recognition dataset\\n------------------------\\n\\n**Data Set Characteristics:**\\n\\n:Number of Instances: 178\\n:Number of Attributes: 13 numeric, predictive attributes and the class\\n:Attribute Information:\\n    - Alcohol\\n    - Malic acid\\n    - Ash\\n    - Alcalinity of ash\\n    - Magnesium\\n    - Total phenols\\n    - Flavanoids\\n    - Nonflavanoid phenols\\n    - Proanthocyanins\\n    - Color intensity\\n    - Hue\\n    - OD280/OD315 of diluted wines\\n    - Proline\\n    - class:\\n        - class_0\\n        - class_1\\n        - class_2\\n\\n:Summary Statistics:\\n\\n============================= ==== ===== ======= =====\\n                                Min   Max   Mean     SD\\n============================= ==== ===== ======= =====\\nAlcohol:                      11.0  14.8    13.0   0.8\\nMalic Acid:                   0.74  5.80    2.34  1.12\\nAsh:                          1.36  3.23    2.36  0.27\\nAlcalinity of Ash:            10.6  30.0    19.5   3.3\\nMagnesium:                    70.0 162.0    99.7  14.3\\nTotal Phenols:                0.98  3.88    2.29  0.63\\nFlavanoids:                   0.34  5.08    2.03  1.00\\nNonflavanoid Phenols:         0.13  0.66    0.36  0.12\\nProanthocyanins:              0.41  3.58    1.59  0.57\\nColour Intensity:              1.3  13.0     5.1   2.3\\nHue:                          0.48  1.71    0.96  0.23\\nOD280/OD315 of diluted wines: 1.27  4.00    2.61  0.71\\nProline:                       278  1680     746   315\\n============================= ==== ===== ======= =====\\n\\n:Missing Attribute Values: None\\n:Class Distribution: class_0 (59), class_1 (71), class_2 (48)\\n:Creator: R.A. Fisher\\n:Donor: Michael Marshall (MARSHALL%PLU@io.arc.nasa.gov)\\n:Date: July, 1988\\n\\nThis is a copy of UCI ML Wine recognition datasets.\\nhttps://archive.ics.uci.edu/ml/machine-learning-databases/wine/wine.data\\n\\nThe data is the results of a chemical analysis of wines grown in the same\\nregion in Italy by three different cultivators. There are thirteen different\\nmeasurements taken for different constituents found in the three types of\\nwine.\\n\\nOriginal Owners:\\n\\nForina, M. et al, PARVUS -\\nAn Extendible Package for Data Exploration, Classification and Correlation.\\nInstitute of Pharmaceutical and Food Analysis and Technologies,\\nVia Brigata Salerno, 16147 Genoa, Italy.\\n\\nCitation:\\n\\nLichman, M. (2013). UCI Machine Learning Repository\\n[https://archive.ics.uci.edu/ml]. Irvine, CA: University of California,\\nSchool of Information and Computer Science.\\n\\n.. dropdown:: References\\n\\n    (1) S. Aeberhard, D. Coomans and O. de Vel,\\n    Comparison of Classifiers in High Dimensional Settings,\\n    Tech. Rep. no. 92-02, (1992), Dept. of Computer Science and Dept. of\\n    Mathematics and Statistics, James Cook University of North Queensland.\\n    (Also submitted to Technometrics).\\n\\n    The data was used with many others for comparing various\\n    classifiers. The classes are separable, though only RDA\\n    has achieved 100% correct classification.\\n    (RDA : 100%, QDA 99.4%, LDA 98.9%, 1NN 96.1% (z-transformed data))\\n    (All results using the leave-one-out technique)\\n\\n    (2) S. Aeberhard, D. Coomans and O. de Vel,\\n    \"THE CLASSIFICATION PERFORMANCE OF RDA\"\\n    Tech. Rep. no. 92-01, (1992), Dept. of Computer Science and Dept. of\\n    Mathematics and Statistics, James Cook University of North Queensland.\\n    (Also submitted to Journal of Chemometrics).\\n',\n",
       " 'feature_names': ['alcohol',\n",
       "  'malic_acid',\n",
       "  'ash',\n",
       "  'alcalinity_of_ash',\n",
       "  'magnesium',\n",
       "  'total_phenols',\n",
       "  'flavanoids',\n",
       "  'nonflavanoid_phenols',\n",
       "  'proanthocyanins',\n",
       "  'color_intensity',\n",
       "  'hue',\n",
       "  'od280/od315_of_diluted_wines',\n",
       "  'proline']}"
      ]
     },
     "execution_count": 198,
     "metadata": {},
     "output_type": "execute_result"
    }
   ],
   "execution_count": 198
  },
  {
   "metadata": {
    "ExecuteTime": {
     "end_time": "2024-11-14T21:34:31.504042Z",
     "start_time": "2024-11-14T21:34:31.501392Z"
    }
   },
   "cell_type": "code",
   "source": "wine.data.shape",
   "id": "984b5a51bfa0987b",
   "outputs": [
    {
     "data": {
      "text/plain": [
       "(178, 13)"
      ]
     },
     "execution_count": 199,
     "metadata": {},
     "output_type": "execute_result"
    }
   ],
   "execution_count": 199
  },
  {
   "metadata": {
    "ExecuteTime": {
     "end_time": "2024-11-14T21:34:31.525954Z",
     "start_time": "2024-11-14T21:34:31.523359Z"
    }
   },
   "cell_type": "code",
   "source": "wine.target",
   "id": "5c91fee335f97452",
   "outputs": [
    {
     "data": {
      "text/plain": [
       "array([0, 0, 0, 0, 0, 0, 0, 0, 0, 0, 0, 0, 0, 0, 0, 0, 0, 0, 0, 0, 0, 0,\n",
       "       0, 0, 0, 0, 0, 0, 0, 0, 0, 0, 0, 0, 0, 0, 0, 0, 0, 0, 0, 0, 0, 0,\n",
       "       0, 0, 0, 0, 0, 0, 0, 0, 0, 0, 0, 0, 0, 0, 0, 1, 1, 1, 1, 1, 1, 1,\n",
       "       1, 1, 1, 1, 1, 1, 1, 1, 1, 1, 1, 1, 1, 1, 1, 1, 1, 1, 1, 1, 1, 1,\n",
       "       1, 1, 1, 1, 1, 1, 1, 1, 1, 1, 1, 1, 1, 1, 1, 1, 1, 1, 1, 1, 1, 1,\n",
       "       1, 1, 1, 1, 1, 1, 1, 1, 1, 1, 1, 1, 1, 1, 1, 1, 1, 1, 1, 1, 2, 2,\n",
       "       2, 2, 2, 2, 2, 2, 2, 2, 2, 2, 2, 2, 2, 2, 2, 2, 2, 2, 2, 2, 2, 2,\n",
       "       2, 2, 2, 2, 2, 2, 2, 2, 2, 2, 2, 2, 2, 2, 2, 2, 2, 2, 2, 2, 2, 2,\n",
       "       2, 2])"
      ]
     },
     "execution_count": 200,
     "metadata": {},
     "output_type": "execute_result"
    }
   ],
   "execution_count": 200
  },
  {
   "metadata": {
    "ExecuteTime": {
     "end_time": "2024-11-14T21:34:31.567962Z",
     "start_time": "2024-11-14T21:34:31.555424Z"
    }
   },
   "cell_type": "code",
   "source": [
    "import pandas as pd\n",
    "\n",
    "pd.concat([pd.DataFrame(wine.data), pd.DataFrame(wine.target)], axis=1)"
   ],
   "id": "f913d28754992791",
   "outputs": [
    {
     "data": {
      "text/plain": [
       "        0     1     2     3      4     5     6     7     8      9     10  \\\n",
       "0    14.23  1.71  2.43  15.6  127.0  2.80  3.06  0.28  2.29   5.64  1.04   \n",
       "1    13.20  1.78  2.14  11.2  100.0  2.65  2.76  0.26  1.28   4.38  1.05   \n",
       "2    13.16  2.36  2.67  18.6  101.0  2.80  3.24  0.30  2.81   5.68  1.03   \n",
       "3    14.37  1.95  2.50  16.8  113.0  3.85  3.49  0.24  2.18   7.80  0.86   \n",
       "4    13.24  2.59  2.87  21.0  118.0  2.80  2.69  0.39  1.82   4.32  1.04   \n",
       "..     ...   ...   ...   ...    ...   ...   ...   ...   ...    ...   ...   \n",
       "173  13.71  5.65  2.45  20.5   95.0  1.68  0.61  0.52  1.06   7.70  0.64   \n",
       "174  13.40  3.91  2.48  23.0  102.0  1.80  0.75  0.43  1.41   7.30  0.70   \n",
       "175  13.27  4.28  2.26  20.0  120.0  1.59  0.69  0.43  1.35  10.20  0.59   \n",
       "176  13.17  2.59  2.37  20.0  120.0  1.65  0.68  0.53  1.46   9.30  0.60   \n",
       "177  14.13  4.10  2.74  24.5   96.0  2.05  0.76  0.56  1.35   9.20  0.61   \n",
       "\n",
       "       11      12  0   \n",
       "0    3.92  1065.0   0  \n",
       "1    3.40  1050.0   0  \n",
       "2    3.17  1185.0   0  \n",
       "3    3.45  1480.0   0  \n",
       "4    2.93   735.0   0  \n",
       "..    ...     ...  ..  \n",
       "173  1.74   740.0   2  \n",
       "174  1.56   750.0   2  \n",
       "175  1.56   835.0   2  \n",
       "176  1.62   840.0   2  \n",
       "177  1.60   560.0   2  \n",
       "\n",
       "[178 rows x 14 columns]"
      ],
      "text/html": [
       "<div>\n",
       "<style scoped>\n",
       "    .dataframe tbody tr th:only-of-type {\n",
       "        vertical-align: middle;\n",
       "    }\n",
       "\n",
       "    .dataframe tbody tr th {\n",
       "        vertical-align: top;\n",
       "    }\n",
       "\n",
       "    .dataframe thead th {\n",
       "        text-align: right;\n",
       "    }\n",
       "</style>\n",
       "<table border=\"1\" class=\"dataframe\">\n",
       "  <thead>\n",
       "    <tr style=\"text-align: right;\">\n",
       "      <th></th>\n",
       "      <th>0</th>\n",
       "      <th>1</th>\n",
       "      <th>2</th>\n",
       "      <th>3</th>\n",
       "      <th>4</th>\n",
       "      <th>5</th>\n",
       "      <th>6</th>\n",
       "      <th>7</th>\n",
       "      <th>8</th>\n",
       "      <th>9</th>\n",
       "      <th>10</th>\n",
       "      <th>11</th>\n",
       "      <th>12</th>\n",
       "      <th>0</th>\n",
       "    </tr>\n",
       "  </thead>\n",
       "  <tbody>\n",
       "    <tr>\n",
       "      <th>0</th>\n",
       "      <td>14.23</td>\n",
       "      <td>1.71</td>\n",
       "      <td>2.43</td>\n",
       "      <td>15.6</td>\n",
       "      <td>127.0</td>\n",
       "      <td>2.80</td>\n",
       "      <td>3.06</td>\n",
       "      <td>0.28</td>\n",
       "      <td>2.29</td>\n",
       "      <td>5.64</td>\n",
       "      <td>1.04</td>\n",
       "      <td>3.92</td>\n",
       "      <td>1065.0</td>\n",
       "      <td>0</td>\n",
       "    </tr>\n",
       "    <tr>\n",
       "      <th>1</th>\n",
       "      <td>13.20</td>\n",
       "      <td>1.78</td>\n",
       "      <td>2.14</td>\n",
       "      <td>11.2</td>\n",
       "      <td>100.0</td>\n",
       "      <td>2.65</td>\n",
       "      <td>2.76</td>\n",
       "      <td>0.26</td>\n",
       "      <td>1.28</td>\n",
       "      <td>4.38</td>\n",
       "      <td>1.05</td>\n",
       "      <td>3.40</td>\n",
       "      <td>1050.0</td>\n",
       "      <td>0</td>\n",
       "    </tr>\n",
       "    <tr>\n",
       "      <th>2</th>\n",
       "      <td>13.16</td>\n",
       "      <td>2.36</td>\n",
       "      <td>2.67</td>\n",
       "      <td>18.6</td>\n",
       "      <td>101.0</td>\n",
       "      <td>2.80</td>\n",
       "      <td>3.24</td>\n",
       "      <td>0.30</td>\n",
       "      <td>2.81</td>\n",
       "      <td>5.68</td>\n",
       "      <td>1.03</td>\n",
       "      <td>3.17</td>\n",
       "      <td>1185.0</td>\n",
       "      <td>0</td>\n",
       "    </tr>\n",
       "    <tr>\n",
       "      <th>3</th>\n",
       "      <td>14.37</td>\n",
       "      <td>1.95</td>\n",
       "      <td>2.50</td>\n",
       "      <td>16.8</td>\n",
       "      <td>113.0</td>\n",
       "      <td>3.85</td>\n",
       "      <td>3.49</td>\n",
       "      <td>0.24</td>\n",
       "      <td>2.18</td>\n",
       "      <td>7.80</td>\n",
       "      <td>0.86</td>\n",
       "      <td>3.45</td>\n",
       "      <td>1480.0</td>\n",
       "      <td>0</td>\n",
       "    </tr>\n",
       "    <tr>\n",
       "      <th>4</th>\n",
       "      <td>13.24</td>\n",
       "      <td>2.59</td>\n",
       "      <td>2.87</td>\n",
       "      <td>21.0</td>\n",
       "      <td>118.0</td>\n",
       "      <td>2.80</td>\n",
       "      <td>2.69</td>\n",
       "      <td>0.39</td>\n",
       "      <td>1.82</td>\n",
       "      <td>4.32</td>\n",
       "      <td>1.04</td>\n",
       "      <td>2.93</td>\n",
       "      <td>735.0</td>\n",
       "      <td>0</td>\n",
       "    </tr>\n",
       "    <tr>\n",
       "      <th>...</th>\n",
       "      <td>...</td>\n",
       "      <td>...</td>\n",
       "      <td>...</td>\n",
       "      <td>...</td>\n",
       "      <td>...</td>\n",
       "      <td>...</td>\n",
       "      <td>...</td>\n",
       "      <td>...</td>\n",
       "      <td>...</td>\n",
       "      <td>...</td>\n",
       "      <td>...</td>\n",
       "      <td>...</td>\n",
       "      <td>...</td>\n",
       "      <td>...</td>\n",
       "    </tr>\n",
       "    <tr>\n",
       "      <th>173</th>\n",
       "      <td>13.71</td>\n",
       "      <td>5.65</td>\n",
       "      <td>2.45</td>\n",
       "      <td>20.5</td>\n",
       "      <td>95.0</td>\n",
       "      <td>1.68</td>\n",
       "      <td>0.61</td>\n",
       "      <td>0.52</td>\n",
       "      <td>1.06</td>\n",
       "      <td>7.70</td>\n",
       "      <td>0.64</td>\n",
       "      <td>1.74</td>\n",
       "      <td>740.0</td>\n",
       "      <td>2</td>\n",
       "    </tr>\n",
       "    <tr>\n",
       "      <th>174</th>\n",
       "      <td>13.40</td>\n",
       "      <td>3.91</td>\n",
       "      <td>2.48</td>\n",
       "      <td>23.0</td>\n",
       "      <td>102.0</td>\n",
       "      <td>1.80</td>\n",
       "      <td>0.75</td>\n",
       "      <td>0.43</td>\n",
       "      <td>1.41</td>\n",
       "      <td>7.30</td>\n",
       "      <td>0.70</td>\n",
       "      <td>1.56</td>\n",
       "      <td>750.0</td>\n",
       "      <td>2</td>\n",
       "    </tr>\n",
       "    <tr>\n",
       "      <th>175</th>\n",
       "      <td>13.27</td>\n",
       "      <td>4.28</td>\n",
       "      <td>2.26</td>\n",
       "      <td>20.0</td>\n",
       "      <td>120.0</td>\n",
       "      <td>1.59</td>\n",
       "      <td>0.69</td>\n",
       "      <td>0.43</td>\n",
       "      <td>1.35</td>\n",
       "      <td>10.20</td>\n",
       "      <td>0.59</td>\n",
       "      <td>1.56</td>\n",
       "      <td>835.0</td>\n",
       "      <td>2</td>\n",
       "    </tr>\n",
       "    <tr>\n",
       "      <th>176</th>\n",
       "      <td>13.17</td>\n",
       "      <td>2.59</td>\n",
       "      <td>2.37</td>\n",
       "      <td>20.0</td>\n",
       "      <td>120.0</td>\n",
       "      <td>1.65</td>\n",
       "      <td>0.68</td>\n",
       "      <td>0.53</td>\n",
       "      <td>1.46</td>\n",
       "      <td>9.30</td>\n",
       "      <td>0.60</td>\n",
       "      <td>1.62</td>\n",
       "      <td>840.0</td>\n",
       "      <td>2</td>\n",
       "    </tr>\n",
       "    <tr>\n",
       "      <th>177</th>\n",
       "      <td>14.13</td>\n",
       "      <td>4.10</td>\n",
       "      <td>2.74</td>\n",
       "      <td>24.5</td>\n",
       "      <td>96.0</td>\n",
       "      <td>2.05</td>\n",
       "      <td>0.76</td>\n",
       "      <td>0.56</td>\n",
       "      <td>1.35</td>\n",
       "      <td>9.20</td>\n",
       "      <td>0.61</td>\n",
       "      <td>1.60</td>\n",
       "      <td>560.0</td>\n",
       "      <td>2</td>\n",
       "    </tr>\n",
       "  </tbody>\n",
       "</table>\n",
       "<p>178 rows × 14 columns</p>\n",
       "</div>"
      ]
     },
     "execution_count": 201,
     "metadata": {},
     "output_type": "execute_result"
    }
   ],
   "execution_count": 201
  },
  {
   "metadata": {
    "ExecuteTime": {
     "end_time": "2024-11-14T21:34:31.592150Z",
     "start_time": "2024-11-14T21:34:31.589499Z"
    }
   },
   "cell_type": "code",
   "source": "wine.feature_names",
   "id": "3fc890175e5c377",
   "outputs": [
    {
     "data": {
      "text/plain": [
       "['alcohol',\n",
       " 'malic_acid',\n",
       " 'ash',\n",
       " 'alcalinity_of_ash',\n",
       " 'magnesium',\n",
       " 'total_phenols',\n",
       " 'flavanoids',\n",
       " 'nonflavanoid_phenols',\n",
       " 'proanthocyanins',\n",
       " 'color_intensity',\n",
       " 'hue',\n",
       " 'od280/od315_of_diluted_wines',\n",
       " 'proline']"
      ]
     },
     "execution_count": 202,
     "metadata": {},
     "output_type": "execute_result"
    }
   ],
   "execution_count": 202
  },
  {
   "metadata": {
    "ExecuteTime": {
     "end_time": "2024-11-14T21:34:31.626694Z",
     "start_time": "2024-11-14T21:34:31.623780Z"
    }
   },
   "cell_type": "code",
   "source": "wine.target_names",
   "id": "13c4cff66c0e02e",
   "outputs": [
    {
     "data": {
      "text/plain": [
       "array(['class_0', 'class_1', 'class_2'], dtype='<U7')"
      ]
     },
     "execution_count": 203,
     "metadata": {},
     "output_type": "execute_result"
    }
   ],
   "execution_count": 203
  },
  {
   "metadata": {
    "ExecuteTime": {
     "end_time": "2024-11-14T21:34:31.675939Z",
     "start_time": "2024-11-14T21:34:31.673639Z"
    }
   },
   "cell_type": "code",
   "source": "xtrain, xtest, ytrain, ytest = train_test_split(wine.data, wine.target, test_size=0.3)",
   "id": "7fb8c02c60d19aa7",
   "outputs": [],
   "execution_count": 204
  },
  {
   "metadata": {
    "ExecuteTime": {
     "end_time": "2024-11-14T21:34:31.739779Z",
     "start_time": "2024-11-14T21:34:31.738001Z"
    }
   },
   "cell_type": "code",
   "source": "xtrain.shape",
   "id": "dc2b50d5f1f73ec3",
   "outputs": [
    {
     "data": {
      "text/plain": [
       "(124, 13)"
      ]
     },
     "execution_count": 205,
     "metadata": {},
     "output_type": "execute_result"
    }
   ],
   "execution_count": 205
  },
  {
   "metadata": {
    "ExecuteTime": {
     "end_time": "2024-11-14T21:34:31.764577Z",
     "start_time": "2024-11-14T21:34:31.761633Z"
    }
   },
   "cell_type": "code",
   "source": "xtest.shape",
   "id": "4e418494209bcd76",
   "outputs": [
    {
     "data": {
      "text/plain": [
       "(54, 13)"
      ]
     },
     "execution_count": 206,
     "metadata": {},
     "output_type": "execute_result"
    }
   ],
   "execution_count": 206
  },
  {
   "metadata": {
    "ExecuteTime": {
     "end_time": "2024-11-14T21:34:31.776598Z",
     "start_time": "2024-11-14T21:34:31.774765Z"
    }
   },
   "cell_type": "code",
   "source": "ytrain.shape",
   "id": "99c9a8ca16607264",
   "outputs": [
    {
     "data": {
      "text/plain": [
       "(124,)"
      ]
     },
     "execution_count": 207,
     "metadata": {},
     "output_type": "execute_result"
    }
   ],
   "execution_count": 207
  },
  {
   "metadata": {
    "ExecuteTime": {
     "end_time": "2024-11-14T21:34:31.795059Z",
     "start_time": "2024-11-14T21:34:31.793108Z"
    }
   },
   "cell_type": "code",
   "source": "ytest.shape",
   "id": "d4bcdd8d9a946fba",
   "outputs": [
    {
     "data": {
      "text/plain": [
       "(54,)"
      ]
     },
     "execution_count": 208,
     "metadata": {},
     "output_type": "execute_result"
    }
   ],
   "execution_count": 208
  },
  {
   "metadata": {
    "ExecuteTime": {
     "end_time": "2024-11-14T21:34:31.808007Z",
     "start_time": "2024-11-14T21:34:31.803798Z"
    }
   },
   "cell_type": "code",
   "source": [
    "clf = tree.DecisionTreeClassifier(criterion='entropy')\n",
    "clf = clf.fit(xtrain, ytrain)\n",
    "score = clf.score(xtest, ytest)  #返回预测的准确度"
   ],
   "id": "23f261039e77daed",
   "outputs": [],
   "execution_count": 209
  },
  {
   "metadata": {
    "ExecuteTime": {
     "end_time": "2024-11-14T21:34:31.822473Z",
     "start_time": "2024-11-14T21:34:31.819808Z"
    }
   },
   "cell_type": "code",
   "source": "score",
   "id": "ed0804e619f79676",
   "outputs": [
    {
     "data": {
      "text/plain": [
       "0.8148148148148148"
      ]
     },
     "execution_count": 210,
     "metadata": {},
     "output_type": "execute_result"
    }
   ],
   "execution_count": 210
  },
  {
   "metadata": {
    "ExecuteTime": {
     "end_time": "2024-11-14T21:34:32.009701Z",
     "start_time": "2024-11-14T21:34:31.832673Z"
    }
   },
   "cell_type": "code",
   "source": [
    "import graphviz\n",
    "\n",
    "dot_data = tree.export_graphviz(clf\n",
    "                                , feature_names=wine.feature_names\n",
    "                                , class_names=wine.target_names\n",
    "                                , filled=True\n",
    "                                #filed 就是填充颜色。 越往下，不纯度越低，颜色越浅\n",
    "                                , rounded=True)  #rounded 就是把框变成圆形\n",
    "\n",
    "graph = graphviz.Source(dot_data)\n",
    "graph"
   ],
   "id": "f1c6c27d31c21d27",
   "outputs": [
    {
     "data": {
      "image/svg+xml": "<?xml version=\"1.0\" encoding=\"UTF-8\" standalone=\"no\"?>\n<!DOCTYPE svg PUBLIC \"-//W3C//DTD SVG 1.1//EN\"\n \"http://www.w3.org/Graphics/SVG/1.1/DTD/svg11.dtd\">\n<!-- Generated by graphviz version 12.2.0 (20241103.1931)\n -->\n<!-- Title: Tree Pages: 1 -->\n<svg width=\"1044pt\" height=\"671pt\"\n viewBox=\"0.00 0.00 1043.75 671.00\" xmlns=\"http://www.w3.org/2000/svg\" xmlns:xlink=\"http://www.w3.org/1999/xlink\">\n<g id=\"graph0\" class=\"graph\" transform=\"scale(1 1) rotate(0) translate(4 667)\">\n<title>Tree</title>\n<polygon fill=\"white\" stroke=\"none\" points=\"-4,4 -4,-667 1039.75,-667 1039.75,4 -4,4\"/>\n<!-- 0 -->\n<g id=\"node1\" class=\"node\">\n<title>0</title>\n<path fill=\"#e8fcf0\" stroke=\"black\" d=\"M562,-663C562,-663 454.5,-663 454.5,-663 448.5,-663 442.5,-657 442.5,-651 442.5,-651 442.5,-592 442.5,-592 442.5,-586 448.5,-580 454.5,-580 454.5,-580 562,-580 562,-580 568,-580 574,-586 574,-592 574,-592 574,-651 574,-651 574,-657 568,-663 562,-663\"/>\n<text text-anchor=\"middle\" x=\"508.25\" y=\"-645.7\" font-family=\"Helvetica,sans-Serif\" font-size=\"14.00\">proline &lt;= 760.0</text>\n<text text-anchor=\"middle\" x=\"508.25\" y=\"-630.7\" font-family=\"Helvetica,sans-Serif\" font-size=\"14.00\">entropy = 1.502</text>\n<text text-anchor=\"middle\" x=\"508.25\" y=\"-615.7\" font-family=\"Helvetica,sans-Serif\" font-size=\"14.00\">samples = 124</text>\n<text text-anchor=\"middle\" x=\"508.25\" y=\"-600.7\" font-family=\"Helvetica,sans-Serif\" font-size=\"14.00\">value = [46, 55, 23]</text>\n<text text-anchor=\"middle\" x=\"508.25\" y=\"-585.7\" font-family=\"Helvetica,sans-Serif\" font-size=\"14.00\">class = class_1</text>\n</g>\n<!-- 1 -->\n<g id=\"node2\" class=\"node\">\n<title>1</title>\n<path fill=\"#87efb3\" stroke=\"black\" d=\"M487.75,-544C487.75,-544 366.75,-544 366.75,-544 360.75,-544 354.75,-538 354.75,-532 354.75,-532 354.75,-473 354.75,-473 354.75,-467 360.75,-461 366.75,-461 366.75,-461 487.75,-461 487.75,-461 493.75,-461 499.75,-467 499.75,-473 499.75,-473 499.75,-532 499.75,-532 499.75,-538 493.75,-544 487.75,-544\"/>\n<text text-anchor=\"middle\" x=\"427.25\" y=\"-526.7\" font-family=\"Helvetica,sans-Serif\" font-size=\"14.00\">color_intensity &lt;= 4.8</text>\n<text text-anchor=\"middle\" x=\"427.25\" y=\"-511.7\" font-family=\"Helvetica,sans-Serif\" font-size=\"14.00\">entropy = 1.003</text>\n<text text-anchor=\"middle\" x=\"427.25\" y=\"-496.7\" font-family=\"Helvetica,sans-Serif\" font-size=\"14.00\">samples = 72</text>\n<text text-anchor=\"middle\" x=\"427.25\" y=\"-481.7\" font-family=\"Helvetica,sans-Serif\" font-size=\"14.00\">value = [2, 51, 19]</text>\n<text text-anchor=\"middle\" x=\"427.25\" y=\"-466.7\" font-family=\"Helvetica,sans-Serif\" font-size=\"14.00\">class = class_1</text>\n</g>\n<!-- 0&#45;&gt;1 -->\n<g id=\"edge1\" class=\"edge\">\n<title>0&#45;&gt;1</title>\n<path fill=\"none\" stroke=\"black\" d=\"M479.92,-579.58C474.09,-571.16 467.89,-562.2 461.87,-553.5\"/>\n<polygon fill=\"black\" stroke=\"black\" points=\"464.86,-551.67 456.29,-545.44 459.1,-555.66 464.86,-551.67\"/>\n<text text-anchor=\"middle\" x=\"450.95\" y=\"-563\" font-family=\"Helvetica,sans-Serif\" font-size=\"14.00\">True</text>\n</g>\n<!-- 12 -->\n<g id=\"node13\" class=\"node\">\n<title>12</title>\n<path fill=\"#e9965a\" stroke=\"black\" d=\"M681.5,-544C681.5,-544 571,-544 571,-544 565,-544 559,-538 559,-532 559,-532 559,-473 559,-473 559,-467 565,-461 571,-461 571,-461 681.5,-461 681.5,-461 687.5,-461 693.5,-467 693.5,-473 693.5,-473 693.5,-532 693.5,-532 693.5,-538 687.5,-544 681.5,-544\"/>\n<text text-anchor=\"middle\" x=\"626.25\" y=\"-526.7\" font-family=\"Helvetica,sans-Serif\" font-size=\"14.00\">flavanoids &lt;= 2.165</text>\n<text text-anchor=\"middle\" x=\"626.25\" y=\"-511.7\" font-family=\"Helvetica,sans-Serif\" font-size=\"14.00\">entropy = 0.773</text>\n<text text-anchor=\"middle\" x=\"626.25\" y=\"-496.7\" font-family=\"Helvetica,sans-Serif\" font-size=\"14.00\">samples = 52</text>\n<text text-anchor=\"middle\" x=\"626.25\" y=\"-481.7\" font-family=\"Helvetica,sans-Serif\" font-size=\"14.00\">value = [44, 4, 4]</text>\n<text text-anchor=\"middle\" x=\"626.25\" y=\"-466.7\" font-family=\"Helvetica,sans-Serif\" font-size=\"14.00\">class = class_0</text>\n</g>\n<!-- 0&#45;&gt;12 -->\n<g id=\"edge12\" class=\"edge\">\n<title>0&#45;&gt;12</title>\n<path fill=\"none\" stroke=\"black\" d=\"M549.52,-579.58C558.46,-570.71 568.01,-561.25 577.22,-552.12\"/>\n<polygon fill=\"black\" stroke=\"black\" points=\"579.49,-554.79 584.13,-545.27 574.56,-549.82 579.49,-554.79\"/>\n<text text-anchor=\"middle\" x=\"585.1\" y=\"-563.4\" font-family=\"Helvetica,sans-Serif\" font-size=\"14.00\">False</text>\n</g>\n<!-- 2 -->\n<g id=\"node3\" class=\"node\">\n<title>2</title>\n<path fill=\"#45e789\" stroke=\"black\" d=\"M260.5,-425C260.5,-425 132,-425 132,-425 126,-425 120,-419 120,-413 120,-413 120,-354 120,-354 120,-348 126,-342 132,-342 132,-342 260.5,-342 260.5,-342 266.5,-342 272.5,-348 272.5,-354 272.5,-354 272.5,-413 272.5,-413 272.5,-419 266.5,-425 260.5,-425\"/>\n<text text-anchor=\"middle\" x=\"196.25\" y=\"-407.7\" font-family=\"Helvetica,sans-Serif\" font-size=\"14.00\">color_intensity &lt;= 4.11</text>\n<text text-anchor=\"middle\" x=\"196.25\" y=\"-392.7\" font-family=\"Helvetica,sans-Serif\" font-size=\"14.00\">entropy = 0.377</text>\n<text text-anchor=\"middle\" x=\"196.25\" y=\"-377.7\" font-family=\"Helvetica,sans-Serif\" font-size=\"14.00\">samples = 51</text>\n<text text-anchor=\"middle\" x=\"196.25\" y=\"-362.7\" font-family=\"Helvetica,sans-Serif\" font-size=\"14.00\">value = [2, 48, 1]</text>\n<text text-anchor=\"middle\" x=\"196.25\" y=\"-347.7\" font-family=\"Helvetica,sans-Serif\" font-size=\"14.00\">class = class_1</text>\n</g>\n<!-- 1&#45;&gt;2 -->\n<g id=\"edge2\" class=\"edge\">\n<title>1&#45;&gt;2</title>\n<path fill=\"none\" stroke=\"black\" d=\"M354.48,-464.64C331.68,-453.09 306.3,-440.24 282.66,-428.27\"/>\n<polygon fill=\"black\" stroke=\"black\" points=\"284.5,-425.27 274,-423.88 281.34,-431.52 284.5,-425.27\"/>\n</g>\n<!-- 9 -->\n<g id=\"node10\" class=\"node\">\n<title>9</title>\n<path fill=\"#965ae9\" stroke=\"black\" d=\"M480.62,-425C480.62,-425 373.88,-425 373.88,-425 367.88,-425 361.88,-419 361.88,-413 361.88,-413 361.88,-354 361.88,-354 361.88,-348 367.88,-342 373.88,-342 373.88,-342 480.62,-342 480.62,-342 486.62,-342 492.62,-348 492.62,-354 492.62,-354 492.62,-413 492.62,-413 492.62,-419 486.62,-425 480.62,-425\"/>\n<text text-anchor=\"middle\" x=\"427.25\" y=\"-407.7\" font-family=\"Helvetica,sans-Serif\" font-size=\"14.00\">malic_acid &lt;= 2.22</text>\n<text text-anchor=\"middle\" x=\"427.25\" y=\"-392.7\" font-family=\"Helvetica,sans-Serif\" font-size=\"14.00\">entropy = 0.592</text>\n<text text-anchor=\"middle\" x=\"427.25\" y=\"-377.7\" font-family=\"Helvetica,sans-Serif\" font-size=\"14.00\">samples = 21</text>\n<text text-anchor=\"middle\" x=\"427.25\" y=\"-362.7\" font-family=\"Helvetica,sans-Serif\" font-size=\"14.00\">value = [0, 3, 18]</text>\n<text text-anchor=\"middle\" x=\"427.25\" y=\"-347.7\" font-family=\"Helvetica,sans-Serif\" font-size=\"14.00\">class = class_2</text>\n</g>\n<!-- 1&#45;&gt;9 -->\n<g id=\"edge9\" class=\"edge\">\n<title>1&#45;&gt;9</title>\n<path fill=\"none\" stroke=\"black\" d=\"M427.25,-460.58C427.25,-452.79 427.25,-444.53 427.25,-436.45\"/>\n<polygon fill=\"black\" stroke=\"black\" points=\"430.75,-436.71 427.25,-426.71 423.75,-436.71 430.75,-436.71\"/>\n</g>\n<!-- 3 -->\n<g id=\"node4\" class=\"node\">\n<title>3</title>\n<path fill=\"#39e581\" stroke=\"black\" d=\"M104.5,-298.5C104.5,-298.5 12,-298.5 12,-298.5 6,-298.5 0,-292.5 0,-286.5 0,-286.5 0,-242.5 0,-242.5 0,-236.5 6,-230.5 12,-230.5 12,-230.5 104.5,-230.5 104.5,-230.5 110.5,-230.5 116.5,-236.5 116.5,-242.5 116.5,-242.5 116.5,-286.5 116.5,-286.5 116.5,-292.5 110.5,-298.5 104.5,-298.5\"/>\n<text text-anchor=\"middle\" x=\"58.25\" y=\"-281.2\" font-family=\"Helvetica,sans-Serif\" font-size=\"14.00\">entropy = 0.0</text>\n<text text-anchor=\"middle\" x=\"58.25\" y=\"-266.2\" font-family=\"Helvetica,sans-Serif\" font-size=\"14.00\">samples = 43</text>\n<text text-anchor=\"middle\" x=\"58.25\" y=\"-251.2\" font-family=\"Helvetica,sans-Serif\" font-size=\"14.00\">value = [0, 43, 0]</text>\n<text text-anchor=\"middle\" x=\"58.25\" y=\"-236.2\" font-family=\"Helvetica,sans-Serif\" font-size=\"14.00\">class = class_1</text>\n</g>\n<!-- 2&#45;&gt;3 -->\n<g id=\"edge3\" class=\"edge\">\n<title>2&#45;&gt;3</title>\n<path fill=\"none\" stroke=\"black\" d=\"M147.98,-341.58C134.47,-330.12 119.78,-317.67 106.28,-306.22\"/>\n<polygon fill=\"black\" stroke=\"black\" points=\"108.64,-303.64 98.75,-299.84 104.12,-308.98 108.64,-303.64\"/>\n</g>\n<!-- 4 -->\n<g id=\"node5\" class=\"node\">\n<title>4</title>\n<path fill=\"#9cf2c0\" stroke=\"black\" d=\"M245.88,-306C245.88,-306 146.62,-306 146.62,-306 140.62,-306 134.62,-300 134.62,-294 134.62,-294 134.62,-235 134.62,-235 134.62,-229 140.62,-223 146.62,-223 146.62,-223 245.88,-223 245.88,-223 251.88,-223 257.88,-229 257.88,-235 257.88,-235 257.88,-294 257.88,-294 257.88,-300 251.88,-306 245.88,-306\"/>\n<text text-anchor=\"middle\" x=\"196.25\" y=\"-288.7\" font-family=\"Helvetica,sans-Serif\" font-size=\"14.00\">malic_acid &lt;= 1.9</text>\n<text text-anchor=\"middle\" x=\"196.25\" y=\"-273.7\" font-family=\"Helvetica,sans-Serif\" font-size=\"14.00\">entropy = 1.299</text>\n<text text-anchor=\"middle\" x=\"196.25\" y=\"-258.7\" font-family=\"Helvetica,sans-Serif\" font-size=\"14.00\">samples = 8</text>\n<text text-anchor=\"middle\" x=\"196.25\" y=\"-243.7\" font-family=\"Helvetica,sans-Serif\" font-size=\"14.00\">value = [2, 5, 1]</text>\n<text text-anchor=\"middle\" x=\"196.25\" y=\"-228.7\" font-family=\"Helvetica,sans-Serif\" font-size=\"14.00\">class = class_1</text>\n</g>\n<!-- 2&#45;&gt;4 -->\n<g id=\"edge4\" class=\"edge\">\n<title>2&#45;&gt;4</title>\n<path fill=\"none\" stroke=\"black\" d=\"M196.25,-341.58C196.25,-333.79 196.25,-325.53 196.25,-317.45\"/>\n<polygon fill=\"black\" stroke=\"black\" points=\"199.75,-317.71 196.25,-307.71 192.75,-317.71 199.75,-317.71\"/>\n</g>\n<!-- 5 -->\n<g id=\"node6\" class=\"node\">\n<title>5</title>\n<path fill=\"#39e581\" stroke=\"black\" d=\"M138.75,-179.5C138.75,-179.5 53.75,-179.5 53.75,-179.5 47.75,-179.5 41.75,-173.5 41.75,-167.5 41.75,-167.5 41.75,-123.5 41.75,-123.5 41.75,-117.5 47.75,-111.5 53.75,-111.5 53.75,-111.5 138.75,-111.5 138.75,-111.5 144.75,-111.5 150.75,-117.5 150.75,-123.5 150.75,-123.5 150.75,-167.5 150.75,-167.5 150.75,-173.5 144.75,-179.5 138.75,-179.5\"/>\n<text text-anchor=\"middle\" x=\"96.25\" y=\"-162.2\" font-family=\"Helvetica,sans-Serif\" font-size=\"14.00\">entropy = 0.0</text>\n<text text-anchor=\"middle\" x=\"96.25\" y=\"-147.2\" font-family=\"Helvetica,sans-Serif\" font-size=\"14.00\">samples = 5</text>\n<text text-anchor=\"middle\" x=\"96.25\" y=\"-132.2\" font-family=\"Helvetica,sans-Serif\" font-size=\"14.00\">value = [0, 5, 0]</text>\n<text text-anchor=\"middle\" x=\"96.25\" y=\"-117.2\" font-family=\"Helvetica,sans-Serif\" font-size=\"14.00\">class = class_1</text>\n</g>\n<!-- 4&#45;&gt;5 -->\n<g id=\"edge5\" class=\"edge\">\n<title>4&#45;&gt;5</title>\n<path fill=\"none\" stroke=\"black\" d=\"M161.27,-222.58C151.85,-211.56 141.65,-199.61 132.17,-188.53\"/>\n<polygon fill=\"black\" stroke=\"black\" points=\"134.91,-186.34 125.75,-181.01 129.58,-190.89 134.91,-186.34\"/>\n</g>\n<!-- 6 -->\n<g id=\"node7\" class=\"node\">\n<title>6</title>\n<path fill=\"#f2c09c\" stroke=\"black\" d=\"M409.75,-187C409.75,-187 180.75,-187 180.75,-187 174.75,-187 168.75,-181 168.75,-175 168.75,-175 168.75,-116 168.75,-116 168.75,-110 174.75,-104 180.75,-104 180.75,-104 409.75,-104 409.75,-104 415.75,-104 421.75,-110 421.75,-116 421.75,-116 421.75,-175 421.75,-175 421.75,-181 415.75,-187 409.75,-187\"/>\n<text text-anchor=\"middle\" x=\"295.25\" y=\"-169.7\" font-family=\"Helvetica,sans-Serif\" font-size=\"14.00\">od280/od315_of_diluted_wines &lt;= 2.62</text>\n<text text-anchor=\"middle\" x=\"295.25\" y=\"-154.7\" font-family=\"Helvetica,sans-Serif\" font-size=\"14.00\">entropy = 0.918</text>\n<text text-anchor=\"middle\" x=\"295.25\" y=\"-139.7\" font-family=\"Helvetica,sans-Serif\" font-size=\"14.00\">samples = 3</text>\n<text text-anchor=\"middle\" x=\"295.25\" y=\"-124.7\" font-family=\"Helvetica,sans-Serif\" font-size=\"14.00\">value = [2, 0, 1]</text>\n<text text-anchor=\"middle\" x=\"295.25\" y=\"-109.7\" font-family=\"Helvetica,sans-Serif\" font-size=\"14.00\">class = class_0</text>\n</g>\n<!-- 4&#45;&gt;6 -->\n<g id=\"edge6\" class=\"edge\">\n<title>4&#45;&gt;6</title>\n<path fill=\"none\" stroke=\"black\" d=\"M230.88,-222.58C238.15,-213.98 245.9,-204.82 253.41,-195.95\"/>\n<polygon fill=\"black\" stroke=\"black\" points=\"256.05,-198.25 259.83,-188.36 250.7,-193.73 256.05,-198.25\"/>\n</g>\n<!-- 7 -->\n<g id=\"node8\" class=\"node\">\n<title>7</title>\n<path fill=\"#8139e5\" stroke=\"black\" d=\"M273.75,-68C273.75,-68 188.75,-68 188.75,-68 182.75,-68 176.75,-62 176.75,-56 176.75,-56 176.75,-12 176.75,-12 176.75,-6 182.75,0 188.75,0 188.75,0 273.75,0 273.75,0 279.75,0 285.75,-6 285.75,-12 285.75,-12 285.75,-56 285.75,-56 285.75,-62 279.75,-68 273.75,-68\"/>\n<text text-anchor=\"middle\" x=\"231.25\" y=\"-50.7\" font-family=\"Helvetica,sans-Serif\" font-size=\"14.00\">entropy = 0.0</text>\n<text text-anchor=\"middle\" x=\"231.25\" y=\"-35.7\" font-family=\"Helvetica,sans-Serif\" font-size=\"14.00\">samples = 1</text>\n<text text-anchor=\"middle\" x=\"231.25\" y=\"-20.7\" font-family=\"Helvetica,sans-Serif\" font-size=\"14.00\">value = [0, 0, 1]</text>\n<text text-anchor=\"middle\" x=\"231.25\" y=\"-5.7\" font-family=\"Helvetica,sans-Serif\" font-size=\"14.00\">class = class_2</text>\n</g>\n<!-- 6&#45;&gt;7 -->\n<g id=\"edge7\" class=\"edge\">\n<title>6&#45;&gt;7</title>\n<path fill=\"none\" stroke=\"black\" d=\"M271.42,-103.73C266.51,-95.34 261.34,-86.47 256.39,-78.01\"/>\n<polygon fill=\"black\" stroke=\"black\" points=\"259.54,-76.47 251.48,-69.61 253.5,-80.01 259.54,-76.47\"/>\n</g>\n<!-- 8 -->\n<g id=\"node9\" class=\"node\">\n<title>8</title>\n<path fill=\"#e58139\" stroke=\"black\" d=\"M400.75,-68C400.75,-68 315.75,-68 315.75,-68 309.75,-68 303.75,-62 303.75,-56 303.75,-56 303.75,-12 303.75,-12 303.75,-6 309.75,0 315.75,0 315.75,0 400.75,0 400.75,0 406.75,0 412.75,-6 412.75,-12 412.75,-12 412.75,-56 412.75,-56 412.75,-62 406.75,-68 400.75,-68\"/>\n<text text-anchor=\"middle\" x=\"358.25\" y=\"-50.7\" font-family=\"Helvetica,sans-Serif\" font-size=\"14.00\">entropy = 0.0</text>\n<text text-anchor=\"middle\" x=\"358.25\" y=\"-35.7\" font-family=\"Helvetica,sans-Serif\" font-size=\"14.00\">samples = 2</text>\n<text text-anchor=\"middle\" x=\"358.25\" y=\"-20.7\" font-family=\"Helvetica,sans-Serif\" font-size=\"14.00\">value = [2, 0, 0]</text>\n<text text-anchor=\"middle\" x=\"358.25\" y=\"-5.7\" font-family=\"Helvetica,sans-Serif\" font-size=\"14.00\">class = class_0</text>\n</g>\n<!-- 6&#45;&gt;8 -->\n<g id=\"edge8\" class=\"edge\">\n<title>6&#45;&gt;8</title>\n<path fill=\"none\" stroke=\"black\" d=\"M318.71,-103.73C323.54,-95.34 328.63,-86.47 333.51,-78.01\"/>\n<polygon fill=\"black\" stroke=\"black\" points=\"336.38,-80.02 338.34,-69.61 330.32,-76.53 336.38,-80.02\"/>\n</g>\n<!-- 10 -->\n<g id=\"node11\" class=\"node\">\n<title>10</title>\n<path fill=\"#39e581\" stroke=\"black\" d=\"M372.75,-298.5C372.75,-298.5 287.75,-298.5 287.75,-298.5 281.75,-298.5 275.75,-292.5 275.75,-286.5 275.75,-286.5 275.75,-242.5 275.75,-242.5 275.75,-236.5 281.75,-230.5 287.75,-230.5 287.75,-230.5 372.75,-230.5 372.75,-230.5 378.75,-230.5 384.75,-236.5 384.75,-242.5 384.75,-242.5 384.75,-286.5 384.75,-286.5 384.75,-292.5 378.75,-298.5 372.75,-298.5\"/>\n<text text-anchor=\"middle\" x=\"330.25\" y=\"-281.2\" font-family=\"Helvetica,sans-Serif\" font-size=\"14.00\">entropy = 0.0</text>\n<text text-anchor=\"middle\" x=\"330.25\" y=\"-266.2\" font-family=\"Helvetica,sans-Serif\" font-size=\"14.00\">samples = 3</text>\n<text text-anchor=\"middle\" x=\"330.25\" y=\"-251.2\" font-family=\"Helvetica,sans-Serif\" font-size=\"14.00\">value = [0, 3, 0]</text>\n<text text-anchor=\"middle\" x=\"330.25\" y=\"-236.2\" font-family=\"Helvetica,sans-Serif\" font-size=\"14.00\">class = class_1</text>\n</g>\n<!-- 9&#45;&gt;10 -->\n<g id=\"edge10\" class=\"edge\">\n<title>9&#45;&gt;10</title>\n<path fill=\"none\" stroke=\"black\" d=\"M393.32,-341.58C384.19,-330.56 374.28,-318.61 365.1,-307.53\"/>\n<polygon fill=\"black\" stroke=\"black\" points=\"367.95,-305.49 358.87,-300.03 362.56,-309.96 367.95,-305.49\"/>\n</g>\n<!-- 11 -->\n<g id=\"node12\" class=\"node\">\n<title>11</title>\n<path fill=\"#8139e5\" stroke=\"black\" d=\"M507.5,-298.5C507.5,-298.5 415,-298.5 415,-298.5 409,-298.5 403,-292.5 403,-286.5 403,-286.5 403,-242.5 403,-242.5 403,-236.5 409,-230.5 415,-230.5 415,-230.5 507.5,-230.5 507.5,-230.5 513.5,-230.5 519.5,-236.5 519.5,-242.5 519.5,-242.5 519.5,-286.5 519.5,-286.5 519.5,-292.5 513.5,-298.5 507.5,-298.5\"/>\n<text text-anchor=\"middle\" x=\"461.25\" y=\"-281.2\" font-family=\"Helvetica,sans-Serif\" font-size=\"14.00\">entropy = 0.0</text>\n<text text-anchor=\"middle\" x=\"461.25\" y=\"-266.2\" font-family=\"Helvetica,sans-Serif\" font-size=\"14.00\">samples = 18</text>\n<text text-anchor=\"middle\" x=\"461.25\" y=\"-251.2\" font-family=\"Helvetica,sans-Serif\" font-size=\"14.00\">value = [0, 0, 18]</text>\n<text text-anchor=\"middle\" x=\"461.25\" y=\"-236.2\" font-family=\"Helvetica,sans-Serif\" font-size=\"14.00\">class = class_2</text>\n</g>\n<!-- 9&#45;&gt;11 -->\n<g id=\"edge11\" class=\"edge\">\n<title>9&#45;&gt;11</title>\n<path fill=\"none\" stroke=\"black\" d=\"M439.14,-341.58C442.12,-331.32 445.34,-320.27 448.36,-309.85\"/>\n<polygon fill=\"black\" stroke=\"black\" points=\"451.7,-310.89 451.13,-300.31 444.98,-308.94 451.7,-310.89\"/>\n</g>\n<!-- 13 -->\n<g id=\"node14\" class=\"node\">\n<title>13</title>\n<path fill=\"#c09cf2\" stroke=\"black\" d=\"M694.25,-425C694.25,-425 558.25,-425 558.25,-425 552.25,-425 546.25,-419 546.25,-413 546.25,-413 546.25,-354 546.25,-354 546.25,-348 552.25,-342 558.25,-342 558.25,-342 694.25,-342 694.25,-342 700.25,-342 706.25,-348 706.25,-354 706.25,-354 706.25,-413 706.25,-413 706.25,-419 700.25,-425 694.25,-425\"/>\n<text text-anchor=\"middle\" x=\"626.25\" y=\"-407.7\" font-family=\"Helvetica,sans-Serif\" font-size=\"14.00\">color_intensity &lt;= 4.405</text>\n<text text-anchor=\"middle\" x=\"626.25\" y=\"-392.7\" font-family=\"Helvetica,sans-Serif\" font-size=\"14.00\">entropy = 0.918</text>\n<text text-anchor=\"middle\" x=\"626.25\" y=\"-377.7\" font-family=\"Helvetica,sans-Serif\" font-size=\"14.00\">samples = 6</text>\n<text text-anchor=\"middle\" x=\"626.25\" y=\"-362.7\" font-family=\"Helvetica,sans-Serif\" font-size=\"14.00\">value = [0, 2, 4]</text>\n<text text-anchor=\"middle\" x=\"626.25\" y=\"-347.7\" font-family=\"Helvetica,sans-Serif\" font-size=\"14.00\">class = class_2</text>\n</g>\n<!-- 12&#45;&gt;13 -->\n<g id=\"edge13\" class=\"edge\">\n<title>12&#45;&gt;13</title>\n<path fill=\"none\" stroke=\"black\" d=\"M626.25,-460.58C626.25,-452.79 626.25,-444.53 626.25,-436.45\"/>\n<polygon fill=\"black\" stroke=\"black\" points=\"629.75,-436.71 626.25,-426.71 622.75,-436.71 629.75,-436.71\"/>\n</g>\n<!-- 16 -->\n<g id=\"node17\" class=\"node\">\n<title>16</title>\n<path fill=\"#e68742\" stroke=\"black\" d=\"M910.75,-425C910.75,-425 789.75,-425 789.75,-425 783.75,-425 777.75,-419 777.75,-413 777.75,-413 777.75,-354 777.75,-354 777.75,-348 783.75,-342 789.75,-342 789.75,-342 910.75,-342 910.75,-342 916.75,-342 922.75,-348 922.75,-354 922.75,-354 922.75,-413 922.75,-413 922.75,-419 916.75,-425 910.75,-425\"/>\n<text text-anchor=\"middle\" x=\"850.25\" y=\"-407.7\" font-family=\"Helvetica,sans-Serif\" font-size=\"14.00\">magnesium &lt;= 135.5</text>\n<text text-anchor=\"middle\" x=\"850.25\" y=\"-392.7\" font-family=\"Helvetica,sans-Serif\" font-size=\"14.00\">entropy = 0.258</text>\n<text text-anchor=\"middle\" x=\"850.25\" y=\"-377.7\" font-family=\"Helvetica,sans-Serif\" font-size=\"14.00\">samples = 46</text>\n<text text-anchor=\"middle\" x=\"850.25\" y=\"-362.7\" font-family=\"Helvetica,sans-Serif\" font-size=\"14.00\">value = [44, 2, 0]</text>\n<text text-anchor=\"middle\" x=\"850.25\" y=\"-347.7\" font-family=\"Helvetica,sans-Serif\" font-size=\"14.00\">class = class_0</text>\n</g>\n<!-- 12&#45;&gt;16 -->\n<g id=\"edge16\" class=\"edge\">\n<title>12&#45;&gt;16</title>\n<path fill=\"none\" stroke=\"black\" d=\"M693.76,-466.24C716.97,-454.11 743.22,-440.4 767.51,-427.72\"/>\n<polygon fill=\"black\" stroke=\"black\" points=\"768.83,-430.98 776.08,-423.24 765.59,-424.77 768.83,-430.98\"/>\n</g>\n<!-- 14 -->\n<g id=\"node15\" class=\"node\">\n<title>14</title>\n<path fill=\"#39e581\" stroke=\"black\" d=\"M634.75,-298.5C634.75,-298.5 549.75,-298.5 549.75,-298.5 543.75,-298.5 537.75,-292.5 537.75,-286.5 537.75,-286.5 537.75,-242.5 537.75,-242.5 537.75,-236.5 543.75,-230.5 549.75,-230.5 549.75,-230.5 634.75,-230.5 634.75,-230.5 640.75,-230.5 646.75,-236.5 646.75,-242.5 646.75,-242.5 646.75,-286.5 646.75,-286.5 646.75,-292.5 640.75,-298.5 634.75,-298.5\"/>\n<text text-anchor=\"middle\" x=\"592.25\" y=\"-281.2\" font-family=\"Helvetica,sans-Serif\" font-size=\"14.00\">entropy = 0.0</text>\n<text text-anchor=\"middle\" x=\"592.25\" y=\"-266.2\" font-family=\"Helvetica,sans-Serif\" font-size=\"14.00\">samples = 2</text>\n<text text-anchor=\"middle\" x=\"592.25\" y=\"-251.2\" font-family=\"Helvetica,sans-Serif\" font-size=\"14.00\">value = [0, 2, 0]</text>\n<text text-anchor=\"middle\" x=\"592.25\" y=\"-236.2\" font-family=\"Helvetica,sans-Serif\" font-size=\"14.00\">class = class_1</text>\n</g>\n<!-- 13&#45;&gt;14 -->\n<g id=\"edge14\" class=\"edge\">\n<title>13&#45;&gt;14</title>\n<path fill=\"none\" stroke=\"black\" d=\"M614.36,-341.58C611.38,-331.32 608.16,-320.27 605.14,-309.85\"/>\n<polygon fill=\"black\" stroke=\"black\" points=\"608.52,-308.94 602.37,-300.31 601.8,-310.89 608.52,-308.94\"/>\n</g>\n<!-- 15 -->\n<g id=\"node16\" class=\"node\">\n<title>15</title>\n<path fill=\"#8139e5\" stroke=\"black\" d=\"M761.75,-298.5C761.75,-298.5 676.75,-298.5 676.75,-298.5 670.75,-298.5 664.75,-292.5 664.75,-286.5 664.75,-286.5 664.75,-242.5 664.75,-242.5 664.75,-236.5 670.75,-230.5 676.75,-230.5 676.75,-230.5 761.75,-230.5 761.75,-230.5 767.75,-230.5 773.75,-236.5 773.75,-242.5 773.75,-242.5 773.75,-286.5 773.75,-286.5 773.75,-292.5 767.75,-298.5 761.75,-298.5\"/>\n<text text-anchor=\"middle\" x=\"719.25\" y=\"-281.2\" font-family=\"Helvetica,sans-Serif\" font-size=\"14.00\">entropy = 0.0</text>\n<text text-anchor=\"middle\" x=\"719.25\" y=\"-266.2\" font-family=\"Helvetica,sans-Serif\" font-size=\"14.00\">samples = 4</text>\n<text text-anchor=\"middle\" x=\"719.25\" y=\"-251.2\" font-family=\"Helvetica,sans-Serif\" font-size=\"14.00\">value = [0, 0, 4]</text>\n<text text-anchor=\"middle\" x=\"719.25\" y=\"-236.2\" font-family=\"Helvetica,sans-Serif\" font-size=\"14.00\">class = class_2</text>\n</g>\n<!-- 13&#45;&gt;15 -->\n<g id=\"edge15\" class=\"edge\">\n<title>13&#45;&gt;15</title>\n<path fill=\"none\" stroke=\"black\" d=\"M658.78,-341.58C667.45,-330.66 676.84,-318.85 685.58,-307.86\"/>\n<polygon fill=\"black\" stroke=\"black\" points=\"688.31,-310.05 691.79,-300.05 682.83,-305.7 688.31,-310.05\"/>\n</g>\n<!-- 17 -->\n<g id=\"node18\" class=\"node\">\n<title>17</title>\n<path fill=\"#e58139\" stroke=\"black\" d=\"M896.5,-298.5C896.5,-298.5 804,-298.5 804,-298.5 798,-298.5 792,-292.5 792,-286.5 792,-286.5 792,-242.5 792,-242.5 792,-236.5 798,-230.5 804,-230.5 804,-230.5 896.5,-230.5 896.5,-230.5 902.5,-230.5 908.5,-236.5 908.5,-242.5 908.5,-242.5 908.5,-286.5 908.5,-286.5 908.5,-292.5 902.5,-298.5 896.5,-298.5\"/>\n<text text-anchor=\"middle\" x=\"850.25\" y=\"-281.2\" font-family=\"Helvetica,sans-Serif\" font-size=\"14.00\">entropy = 0.0</text>\n<text text-anchor=\"middle\" x=\"850.25\" y=\"-266.2\" font-family=\"Helvetica,sans-Serif\" font-size=\"14.00\">samples = 44</text>\n<text text-anchor=\"middle\" x=\"850.25\" y=\"-251.2\" font-family=\"Helvetica,sans-Serif\" font-size=\"14.00\">value = [44, 0, 0]</text>\n<text text-anchor=\"middle\" x=\"850.25\" y=\"-236.2\" font-family=\"Helvetica,sans-Serif\" font-size=\"14.00\">class = class_0</text>\n</g>\n<!-- 16&#45;&gt;17 -->\n<g id=\"edge17\" class=\"edge\">\n<title>16&#45;&gt;17</title>\n<path fill=\"none\" stroke=\"black\" d=\"M850.25,-341.58C850.25,-331.43 850.25,-320.5 850.25,-310.18\"/>\n<polygon fill=\"black\" stroke=\"black\" points=\"853.75,-310.37 850.25,-300.37 846.75,-310.37 853.75,-310.37\"/>\n</g>\n<!-- 18 -->\n<g id=\"node19\" class=\"node\">\n<title>18</title>\n<path fill=\"#39e581\" stroke=\"black\" d=\"M1023.75,-298.5C1023.75,-298.5 938.75,-298.5 938.75,-298.5 932.75,-298.5 926.75,-292.5 926.75,-286.5 926.75,-286.5 926.75,-242.5 926.75,-242.5 926.75,-236.5 932.75,-230.5 938.75,-230.5 938.75,-230.5 1023.75,-230.5 1023.75,-230.5 1029.75,-230.5 1035.75,-236.5 1035.75,-242.5 1035.75,-242.5 1035.75,-286.5 1035.75,-286.5 1035.75,-292.5 1029.75,-298.5 1023.75,-298.5\"/>\n<text text-anchor=\"middle\" x=\"981.25\" y=\"-281.2\" font-family=\"Helvetica,sans-Serif\" font-size=\"14.00\">entropy = 0.0</text>\n<text text-anchor=\"middle\" x=\"981.25\" y=\"-266.2\" font-family=\"Helvetica,sans-Serif\" font-size=\"14.00\">samples = 2</text>\n<text text-anchor=\"middle\" x=\"981.25\" y=\"-251.2\" font-family=\"Helvetica,sans-Serif\" font-size=\"14.00\">value = [0, 2, 0]</text>\n<text text-anchor=\"middle\" x=\"981.25\" y=\"-236.2\" font-family=\"Helvetica,sans-Serif\" font-size=\"14.00\">class = class_1</text>\n</g>\n<!-- 16&#45;&gt;18 -->\n<g id=\"edge18\" class=\"edge\">\n<title>16&#45;&gt;18</title>\n<path fill=\"none\" stroke=\"black\" d=\"M896.07,-341.58C908.9,-330.12 922.84,-317.67 935.66,-306.22\"/>\n<polygon fill=\"black\" stroke=\"black\" points=\"937.64,-309.14 942.77,-299.87 932.98,-303.92 937.64,-309.14\"/>\n</g>\n</g>\n</svg>\n",
      "text/plain": [
       "<graphviz.sources.Source at 0x139ce85f0>"
      ]
     },
     "execution_count": 211,
     "metadata": {},
     "output_type": "execute_result"
    }
   ],
   "execution_count": 211
  },
  {
   "metadata": {
    "ExecuteTime": {
     "end_time": "2024-11-14T21:34:32.022061Z",
     "start_time": "2024-11-14T21:34:32.018862Z"
    }
   },
   "cell_type": "code",
   "source": "clf.feature_importances_",
   "id": "bf488c1efc4cba21",
   "outputs": [
    {
     "data": {
      "text/plain": [
       "array([0.        , 0.1077254 , 0.        , 0.        , 0.06373576,\n",
       "       0.        , 0.12259299, 0.        , 0.        , 0.29494488,\n",
       "       0.        , 0.01479374, 0.39620723])"
      ]
     },
     "execution_count": 212,
     "metadata": {},
     "output_type": "execute_result"
    }
   ],
   "execution_count": 212
  },
  {
   "metadata": {
    "ExecuteTime": {
     "end_time": "2024-11-14T21:34:32.038395Z",
     "start_time": "2024-11-14T21:34:32.036087Z"
    }
   },
   "cell_type": "code",
   "source": "[*zip(wine.feature_names, clf.feature_importances_)]",
   "id": "5f8a00fc2bd25166",
   "outputs": [
    {
     "data": {
      "text/plain": [
       "[('alcohol', np.float64(0.0)),\n",
       " ('malic_acid', np.float64(0.1077253985623898)),\n",
       " ('ash', np.float64(0.0)),\n",
       " ('alcalinity_of_ash', np.float64(0.0)),\n",
       " ('magnesium', np.float64(0.06373575647963685)),\n",
       " ('total_phenols', np.float64(0.0)),\n",
       " ('flavanoids', np.float64(0.12259299177966092)),\n",
       " ('nonflavanoid_phenols', np.float64(0.0)),\n",
       " ('proanthocyanins', np.float64(0.0)),\n",
       " ('color_intensity', np.float64(0.2949448821715595)),\n",
       " ('hue', np.float64(0.0)),\n",
       " ('od280/od315_of_diluted_wines', np.float64(0.014793742392437961)),\n",
       " ('proline', np.float64(0.39620722861431495))]"
      ]
     },
     "execution_count": 213,
     "metadata": {},
     "output_type": "execute_result"
    }
   ],
   "execution_count": 213
  },
  {
   "metadata": {},
   "cell_type": "markdown",
   "source": [
    "\t1.\t创建决策树分类器：\n",
    "\t•\tclf = tree.DecisionTreeClassifier(criterion=\"entropy\", random_state=30)\n",
    "\t•\t这里定义了一个决策树分类器对象 clf，使用 entropy 作为划分标准（信息熵）。random_state=30 用于保证随机过程的可重复性。\n",
    "\t2.\t训练模型：\n",
    "\t•\tclf = clf.fit(Xtrain, Ytrain)\n",
    "\t•\t通过 fit 方法用训练数据 Xtrain 和 Ytrain 对模型进行训练。\n",
    "\t3.\t评估模型：\n",
    "\t•\tscore = clf.score(Xtest, Ytest)\n",
    "\t•\t使用 score 方法在测试集 Xtest 和 Ytest 上评估模型的准确性。score 方法返回模型在测试集上的准确度。\n",
    "\t4.\t输出准确度：\n",
    "\t•\tscore\n",
    "\t•\t直接输出模型的准确度。"
   ],
   "id": "e8a88300647af333"
  },
  {
   "metadata": {
    "ExecuteTime": {
     "end_time": "2024-11-14T21:34:32.051618Z",
     "start_time": "2024-11-14T21:34:32.047642Z"
    }
   },
   "cell_type": "code",
   "source": [
    "clf = tree.DecisionTreeClassifier(criterion=\"entropy\", random_state=40)\n",
    "clf = clf.fit(xtrain, ytrain)\n",
    "score = clf.score(xtest, ytest)  # 返回预测的准确度\n",
    "\n",
    "score"
   ],
   "id": "88b7608528e8041",
   "outputs": [
    {
     "data": {
      "text/plain": [
       "0.7777777777777778"
      ]
     },
     "execution_count": 214,
     "metadata": {},
     "output_type": "execute_result"
    }
   ],
   "execution_count": 214
  },
  {
   "metadata": {},
   "cell_type": "markdown",
   "source": "添加random_state  和  splitter  控制决策树中的随机选项",
   "id": "775951b77c1b76c8"
  },
  {
   "metadata": {
    "ExecuteTime": {
     "end_time": "2024-11-14T21:34:32.067618Z",
     "start_time": "2024-11-14T21:34:32.064793Z"
    }
   },
   "cell_type": "code",
   "source": [
    "from sklearn import tree\n",
    "import graphviz\n",
    "\n",
    "# 定义决策树分类器，使用信息熵作为划分标准，随机种子设为30，分割方式设为随机\n",
    "clf = tree.DecisionTreeClassifier(criterion=\"entropy\", random_state=30, splitter=\"random\")\n",
    "\n",
    "# 训练模型\n",
    "clf = clf.fit(xtrain, ytrain)\n",
    "\n",
    "# 评估模型在测试集上的准确度\n",
    "score = clf.score(xtest, ytest)\n",
    "score  # 输出模型的准确度\n",
    "\n"
   ],
   "id": "3f2647e8d77eac67",
   "outputs": [
    {
     "data": {
      "text/plain": [
       "0.8888888888888888"
      ]
     },
     "execution_count": 215,
     "metadata": {},
     "output_type": "execute_result"
    }
   ],
   "execution_count": 215
  },
  {
   "metadata": {
    "ExecuteTime": {
     "end_time": "2024-11-14T21:34:32.208832Z",
     "start_time": "2024-11-14T21:34:32.073287Z"
    }
   },
   "cell_type": "code",
   "source": [
    "dot_data = tree.export_graphviz(clf\n",
    "                                , feature_names=wine.feature_names\n",
    "                                , class_names=wine.target_names\n",
    "                                , filled=True\n",
    "                                #filed 就是填充颜色。 越往下，不纯度越低，颜色越浅\n",
    "                                , rounded=True)  #rounded 就是把框变成圆形\n",
    "\n",
    "graph = graphviz.Source(dot_data)\n",
    "graph"
   ],
   "id": "72819a92d6a265f0",
   "outputs": [
    {
     "data": {
      "image/svg+xml": "<?xml version=\"1.0\" encoding=\"UTF-8\" standalone=\"no\"?>\n<!DOCTYPE svg PUBLIC \"-//W3C//DTD SVG 1.1//EN\"\n \"http://www.w3.org/Graphics/SVG/1.1/DTD/svg11.dtd\">\n<!-- Generated by graphviz version 12.2.0 (20241103.1931)\n -->\n<!-- Title: Tree Pages: 1 -->\n<svg width=\"1125pt\" height=\"790pt\"\n viewBox=\"0.00 0.00 1124.50 790.00\" xmlns=\"http://www.w3.org/2000/svg\" xmlns:xlink=\"http://www.w3.org/1999/xlink\">\n<g id=\"graph0\" class=\"graph\" transform=\"scale(1 1) rotate(0) translate(4 786)\">\n<title>Tree</title>\n<polygon fill=\"white\" stroke=\"none\" points=\"-4,4 -4,-786 1120.5,-786 1120.5,4 -4,4\"/>\n<!-- 0 -->\n<g id=\"node1\" class=\"node\">\n<title>0</title>\n<path fill=\"#e8fcf0\" stroke=\"black\" d=\"M653,-782C653,-782 545.5,-782 545.5,-782 539.5,-782 533.5,-776 533.5,-770 533.5,-770 533.5,-711 533.5,-711 533.5,-705 539.5,-699 545.5,-699 545.5,-699 653,-699 653,-699 659,-699 665,-705 665,-711 665,-711 665,-770 665,-770 665,-776 659,-782 653,-782\"/>\n<text text-anchor=\"middle\" x=\"599.25\" y=\"-764.7\" font-family=\"Helvetica,sans-Serif\" font-size=\"14.00\">flavanoids &lt;= 2.24</text>\n<text text-anchor=\"middle\" x=\"599.25\" y=\"-749.7\" font-family=\"Helvetica,sans-Serif\" font-size=\"14.00\">entropy = 1.502</text>\n<text text-anchor=\"middle\" x=\"599.25\" y=\"-734.7\" font-family=\"Helvetica,sans-Serif\" font-size=\"14.00\">samples = 124</text>\n<text text-anchor=\"middle\" x=\"599.25\" y=\"-719.7\" font-family=\"Helvetica,sans-Serif\" font-size=\"14.00\">value = [46, 55, 23]</text>\n<text text-anchor=\"middle\" x=\"599.25\" y=\"-704.7\" font-family=\"Helvetica,sans-Serif\" font-size=\"14.00\">class = class_1</text>\n</g>\n<!-- 1 -->\n<g id=\"node2\" class=\"node\">\n<title>1</title>\n<path fill=\"#b6f5d1\" stroke=\"black\" d=\"M609.5,-663C609.5,-663 373,-663 373,-663 367,-663 361,-657 361,-651 361,-651 361,-592 361,-592 361,-586 367,-580 373,-580 373,-580 609.5,-580 609.5,-580 615.5,-580 621.5,-586 621.5,-592 621.5,-592 621.5,-651 621.5,-651 621.5,-657 615.5,-663 609.5,-663\"/>\n<text text-anchor=\"middle\" x=\"491.25\" y=\"-645.7\" font-family=\"Helvetica,sans-Serif\" font-size=\"14.00\">od280/od315_of_diluted_wines &lt;= 2.191</text>\n<text text-anchor=\"middle\" x=\"491.25\" y=\"-630.7\" font-family=\"Helvetica,sans-Serif\" font-size=\"14.00\">entropy = 1.065</text>\n<text text-anchor=\"middle\" x=\"491.25\" y=\"-615.7\" font-family=\"Helvetica,sans-Serif\" font-size=\"14.00\">samples = 61</text>\n<text text-anchor=\"middle\" x=\"491.25\" y=\"-600.7\" font-family=\"Helvetica,sans-Serif\" font-size=\"14.00\">value = [1, 37, 23]</text>\n<text text-anchor=\"middle\" x=\"491.25\" y=\"-585.7\" font-family=\"Helvetica,sans-Serif\" font-size=\"14.00\">class = class_1</text>\n</g>\n<!-- 0&#45;&gt;1 -->\n<g id=\"edge1\" class=\"edge\">\n<title>0&#45;&gt;1</title>\n<path fill=\"none\" stroke=\"black\" d=\"M561.48,-698.58C553.37,-689.8 544.73,-680.44 536.38,-671.39\"/>\n<polygon fill=\"black\" stroke=\"black\" points=\"539.2,-669.29 529.85,-664.31 534.06,-674.03 539.2,-669.29\"/>\n<text text-anchor=\"middle\" x=\"527.82\" y=\"-682.38\" font-family=\"Helvetica,sans-Serif\" font-size=\"14.00\">True</text>\n</g>\n<!-- 18 -->\n<g id=\"node19\" class=\"node\">\n<title>18</title>\n<path fill=\"#efb388\" stroke=\"black\" d=\"M752.25,-663C752.25,-663 652.25,-663 652.25,-663 646.25,-663 640.25,-657 640.25,-651 640.25,-651 640.25,-592 640.25,-592 640.25,-586 646.25,-580 652.25,-580 652.25,-580 752.25,-580 752.25,-580 758.25,-580 764.25,-586 764.25,-592 764.25,-592 764.25,-651 764.25,-651 764.25,-657 758.25,-663 752.25,-663\"/>\n<text text-anchor=\"middle\" x=\"702.25\" y=\"-645.7\" font-family=\"Helvetica,sans-Serif\" font-size=\"14.00\">alcohol &lt;= 12.754</text>\n<text text-anchor=\"middle\" x=\"702.25\" y=\"-630.7\" font-family=\"Helvetica,sans-Serif\" font-size=\"14.00\">entropy = 0.863</text>\n<text text-anchor=\"middle\" x=\"702.25\" y=\"-615.7\" font-family=\"Helvetica,sans-Serif\" font-size=\"14.00\">samples = 63</text>\n<text text-anchor=\"middle\" x=\"702.25\" y=\"-600.7\" font-family=\"Helvetica,sans-Serif\" font-size=\"14.00\">value = [45, 18, 0]</text>\n<text text-anchor=\"middle\" x=\"702.25\" y=\"-585.7\" font-family=\"Helvetica,sans-Serif\" font-size=\"14.00\">class = class_0</text>\n</g>\n<!-- 0&#45;&gt;18 -->\n<g id=\"edge18\" class=\"edge\">\n<title>0&#45;&gt;18</title>\n<path fill=\"none\" stroke=\"black\" d=\"M635.27,-698.58C642.92,-689.89 651.08,-680.63 658.96,-671.67\"/>\n<polygon fill=\"black\" stroke=\"black\" points=\"661.44,-674.15 665.42,-664.34 656.18,-669.53 661.44,-674.15\"/>\n<text text-anchor=\"middle\" x=\"668.01\" y=\"-682.35\" font-family=\"Helvetica,sans-Serif\" font-size=\"14.00\">False</text>\n</g>\n<!-- 2 -->\n<g id=\"node3\" class=\"node\">\n<title>2</title>\n<path fill=\"#b184ef\" stroke=\"black\" d=\"M390.5,-544C390.5,-544 298,-544 298,-544 292,-544 286,-538 286,-532 286,-532 286,-473 286,-473 286,-467 292,-461 298,-461 298,-461 390.5,-461 390.5,-461 396.5,-461 402.5,-467 402.5,-473 402.5,-473 402.5,-532 402.5,-532 402.5,-538 396.5,-544 390.5,-544\"/>\n<text text-anchor=\"middle\" x=\"344.25\" y=\"-526.7\" font-family=\"Helvetica,sans-Serif\" font-size=\"14.00\">hue &lt;= 0.95</text>\n<text text-anchor=\"middle\" x=\"344.25\" y=\"-511.7\" font-family=\"Helvetica,sans-Serif\" font-size=\"14.00\">entropy = 0.85</text>\n<text text-anchor=\"middle\" x=\"344.25\" y=\"-496.7\" font-family=\"Helvetica,sans-Serif\" font-size=\"14.00\">samples = 29</text>\n<text text-anchor=\"middle\" x=\"344.25\" y=\"-481.7\" font-family=\"Helvetica,sans-Serif\" font-size=\"14.00\">value = [0, 8, 21]</text>\n<text text-anchor=\"middle\" x=\"344.25\" y=\"-466.7\" font-family=\"Helvetica,sans-Serif\" font-size=\"14.00\">class = class_2</text>\n</g>\n<!-- 1&#45;&gt;2 -->\n<g id=\"edge2\" class=\"edge\">\n<title>1&#45;&gt;2</title>\n<path fill=\"none\" stroke=\"black\" d=\"M439.84,-579.58C428.36,-570.44 416.08,-560.67 404.29,-551.29\"/>\n<polygon fill=\"black\" stroke=\"black\" points=\"406.57,-548.63 396.57,-545.14 402.22,-554.11 406.57,-548.63\"/>\n</g>\n<!-- 13 -->\n<g id=\"node14\" class=\"node\">\n<title>13</title>\n<path fill=\"#4de88e\" stroke=\"black\" d=\"M546.5,-544C546.5,-544 436,-544 436,-544 430,-544 424,-538 424,-532 424,-532 424,-473 424,-473 424,-467 430,-461 436,-461 436,-461 546.5,-461 546.5,-461 552.5,-461 558.5,-467 558.5,-473 558.5,-473 558.5,-532 558.5,-532 558.5,-538 552.5,-544 546.5,-544\"/>\n<text text-anchor=\"middle\" x=\"491.25\" y=\"-526.7\" font-family=\"Helvetica,sans-Serif\" font-size=\"14.00\">flavanoids &lt;= 0.697</text>\n<text text-anchor=\"middle\" x=\"491.25\" y=\"-511.7\" font-family=\"Helvetica,sans-Serif\" font-size=\"14.00\">entropy = 0.535</text>\n<text text-anchor=\"middle\" x=\"491.25\" y=\"-496.7\" font-family=\"Helvetica,sans-Serif\" font-size=\"14.00\">samples = 32</text>\n<text text-anchor=\"middle\" x=\"491.25\" y=\"-481.7\" font-family=\"Helvetica,sans-Serif\" font-size=\"14.00\">value = [1, 29, 2]</text>\n<text text-anchor=\"middle\" x=\"491.25\" y=\"-466.7\" font-family=\"Helvetica,sans-Serif\" font-size=\"14.00\">class = class_1</text>\n</g>\n<!-- 1&#45;&gt;13 -->\n<g id=\"edge13\" class=\"edge\">\n<title>1&#45;&gt;13</title>\n<path fill=\"none\" stroke=\"black\" d=\"M491.25,-579.58C491.25,-571.79 491.25,-563.53 491.25,-555.45\"/>\n<polygon fill=\"black\" stroke=\"black\" points=\"494.75,-555.71 491.25,-545.71 487.75,-555.71 494.75,-555.71\"/>\n</g>\n<!-- 3 -->\n<g id=\"node4\" class=\"node\">\n<title>3</title>\n<path fill=\"#8e4de8\" stroke=\"black\" d=\"M245.5,-425C245.5,-425 135,-425 135,-425 129,-425 123,-419 123,-413 123,-413 123,-354 123,-354 123,-348 129,-342 135,-342 135,-342 245.5,-342 245.5,-342 251.5,-342 257.5,-348 257.5,-354 257.5,-354 257.5,-413 257.5,-413 257.5,-419 251.5,-425 245.5,-425\"/>\n<text text-anchor=\"middle\" x=\"190.25\" y=\"-407.7\" font-family=\"Helvetica,sans-Serif\" font-size=\"14.00\">flavanoids &lt;= 0.847</text>\n<text text-anchor=\"middle\" x=\"190.25\" y=\"-392.7\" font-family=\"Helvetica,sans-Serif\" font-size=\"14.00\">entropy = 0.439</text>\n<text text-anchor=\"middle\" x=\"190.25\" y=\"-377.7\" font-family=\"Helvetica,sans-Serif\" font-size=\"14.00\">samples = 22</text>\n<text text-anchor=\"middle\" x=\"190.25\" y=\"-362.7\" font-family=\"Helvetica,sans-Serif\" font-size=\"14.00\">value = [0, 2, 20]</text>\n<text text-anchor=\"middle\" x=\"190.25\" y=\"-347.7\" font-family=\"Helvetica,sans-Serif\" font-size=\"14.00\">class = class_2</text>\n</g>\n<!-- 2&#45;&gt;3 -->\n<g id=\"edge3\" class=\"edge\">\n<title>2&#45;&gt;3</title>\n<path fill=\"none\" stroke=\"black\" d=\"M290.39,-460.58C278.31,-451.41 265.4,-441.6 253,-432.17\"/>\n<polygon fill=\"black\" stroke=\"black\" points=\"255.37,-429.58 245.29,-426.31 251.13,-435.15 255.37,-429.58\"/>\n</g>\n<!-- 8 -->\n<g id=\"node9\" class=\"node\">\n<title>8</title>\n<path fill=\"#5ae996\" stroke=\"black\" d=\"M399.5,-425C399.5,-425 289,-425 289,-425 283,-425 277,-419 277,-413 277,-413 277,-354 277,-354 277,-348 283,-342 289,-342 289,-342 399.5,-342 399.5,-342 405.5,-342 411.5,-348 411.5,-354 411.5,-354 411.5,-413 411.5,-413 411.5,-419 405.5,-425 399.5,-425\"/>\n<text text-anchor=\"middle\" x=\"344.25\" y=\"-407.7\" font-family=\"Helvetica,sans-Serif\" font-size=\"14.00\">flavanoids &lt;= 0.761</text>\n<text text-anchor=\"middle\" x=\"344.25\" y=\"-392.7\" font-family=\"Helvetica,sans-Serif\" font-size=\"14.00\">entropy = 0.592</text>\n<text text-anchor=\"middle\" x=\"344.25\" y=\"-377.7\" font-family=\"Helvetica,sans-Serif\" font-size=\"14.00\">samples = 7</text>\n<text text-anchor=\"middle\" x=\"344.25\" y=\"-362.7\" font-family=\"Helvetica,sans-Serif\" font-size=\"14.00\">value = [0, 6, 1]</text>\n<text text-anchor=\"middle\" x=\"344.25\" y=\"-347.7\" font-family=\"Helvetica,sans-Serif\" font-size=\"14.00\">class = class_1</text>\n</g>\n<!-- 2&#45;&gt;8 -->\n<g id=\"edge8\" class=\"edge\">\n<title>2&#45;&gt;8</title>\n<path fill=\"none\" stroke=\"black\" d=\"M344.25,-460.58C344.25,-452.79 344.25,-444.53 344.25,-436.45\"/>\n<polygon fill=\"black\" stroke=\"black\" points=\"347.75,-436.71 344.25,-426.71 340.75,-436.71 347.75,-436.71\"/>\n</g>\n<!-- 4 -->\n<g id=\"node5\" class=\"node\">\n<title>4</title>\n<path fill=\"#8139e5\" stroke=\"black\" d=\"M104.5,-298.5C104.5,-298.5 12,-298.5 12,-298.5 6,-298.5 0,-292.5 0,-286.5 0,-286.5 0,-242.5 0,-242.5 0,-236.5 6,-230.5 12,-230.5 12,-230.5 104.5,-230.5 104.5,-230.5 110.5,-230.5 116.5,-236.5 116.5,-242.5 116.5,-242.5 116.5,-286.5 116.5,-286.5 116.5,-292.5 110.5,-298.5 104.5,-298.5\"/>\n<text text-anchor=\"middle\" x=\"58.25\" y=\"-281.2\" font-family=\"Helvetica,sans-Serif\" font-size=\"14.00\">entropy = 0.0</text>\n<text text-anchor=\"middle\" x=\"58.25\" y=\"-266.2\" font-family=\"Helvetica,sans-Serif\" font-size=\"14.00\">samples = 17</text>\n<text text-anchor=\"middle\" x=\"58.25\" y=\"-251.2\" font-family=\"Helvetica,sans-Serif\" font-size=\"14.00\">value = [0, 0, 17]</text>\n<text text-anchor=\"middle\" x=\"58.25\" y=\"-236.2\" font-family=\"Helvetica,sans-Serif\" font-size=\"14.00\">class = class_2</text>\n</g>\n<!-- 3&#45;&gt;4 -->\n<g id=\"edge4\" class=\"edge\">\n<title>3&#45;&gt;4</title>\n<path fill=\"none\" stroke=\"black\" d=\"M144.08,-341.58C131.15,-330.12 117.11,-317.67 104.19,-306.22\"/>\n<polygon fill=\"black\" stroke=\"black\" points=\"106.83,-303.88 97.02,-299.87 102.18,-309.12 106.83,-303.88\"/>\n</g>\n<!-- 5 -->\n<g id=\"node6\" class=\"node\">\n<title>5</title>\n<path fill=\"#d5bdf6\" stroke=\"black\" d=\"M233.5,-306C233.5,-306 147,-306 147,-306 141,-306 135,-300 135,-294 135,-294 135,-235 135,-235 135,-229 141,-223 147,-223 147,-223 233.5,-223 233.5,-223 239.5,-223 245.5,-229 245.5,-235 245.5,-235 245.5,-294 245.5,-294 245.5,-300 239.5,-306 233.5,-306\"/>\n<text text-anchor=\"middle\" x=\"190.25\" y=\"-288.7\" font-family=\"Helvetica,sans-Serif\" font-size=\"14.00\">hue &lt;= 0.617</text>\n<text text-anchor=\"middle\" x=\"190.25\" y=\"-273.7\" font-family=\"Helvetica,sans-Serif\" font-size=\"14.00\">entropy = 0.971</text>\n<text text-anchor=\"middle\" x=\"190.25\" y=\"-258.7\" font-family=\"Helvetica,sans-Serif\" font-size=\"14.00\">samples = 5</text>\n<text text-anchor=\"middle\" x=\"190.25\" y=\"-243.7\" font-family=\"Helvetica,sans-Serif\" font-size=\"14.00\">value = [0, 2, 3]</text>\n<text text-anchor=\"middle\" x=\"190.25\" y=\"-228.7\" font-family=\"Helvetica,sans-Serif\" font-size=\"14.00\">class = class_2</text>\n</g>\n<!-- 3&#45;&gt;5 -->\n<g id=\"edge5\" class=\"edge\">\n<title>3&#45;&gt;5</title>\n<path fill=\"none\" stroke=\"black\" d=\"M190.25,-341.58C190.25,-333.79 190.25,-325.53 190.25,-317.45\"/>\n<polygon fill=\"black\" stroke=\"black\" points=\"193.75,-317.71 190.25,-307.71 186.75,-317.71 193.75,-317.71\"/>\n</g>\n<!-- 6 -->\n<g id=\"node7\" class=\"node\">\n<title>6</title>\n<path fill=\"#8139e5\" stroke=\"black\" d=\"M108.75,-179.5C108.75,-179.5 23.75,-179.5 23.75,-179.5 17.75,-179.5 11.75,-173.5 11.75,-167.5 11.75,-167.5 11.75,-123.5 11.75,-123.5 11.75,-117.5 17.75,-111.5 23.75,-111.5 23.75,-111.5 108.75,-111.5 108.75,-111.5 114.75,-111.5 120.75,-117.5 120.75,-123.5 120.75,-123.5 120.75,-167.5 120.75,-167.5 120.75,-173.5 114.75,-179.5 108.75,-179.5\"/>\n<text text-anchor=\"middle\" x=\"66.25\" y=\"-162.2\" font-family=\"Helvetica,sans-Serif\" font-size=\"14.00\">entropy = 0.0</text>\n<text text-anchor=\"middle\" x=\"66.25\" y=\"-147.2\" font-family=\"Helvetica,sans-Serif\" font-size=\"14.00\">samples = 3</text>\n<text text-anchor=\"middle\" x=\"66.25\" y=\"-132.2\" font-family=\"Helvetica,sans-Serif\" font-size=\"14.00\">value = [0, 0, 3]</text>\n<text text-anchor=\"middle\" x=\"66.25\" y=\"-117.2\" font-family=\"Helvetica,sans-Serif\" font-size=\"14.00\">class = class_2</text>\n</g>\n<!-- 5&#45;&gt;6 -->\n<g id=\"edge6\" class=\"edge\">\n<title>5&#45;&gt;6</title>\n<path fill=\"none\" stroke=\"black\" d=\"M146.88,-222.58C134.85,-211.23 121.79,-198.9 109.75,-187.55\"/>\n<polygon fill=\"black\" stroke=\"black\" points=\"112.38,-185.22 102.71,-180.9 107.58,-190.31 112.38,-185.22\"/>\n</g>\n<!-- 7 -->\n<g id=\"node8\" class=\"node\">\n<title>7</title>\n<path fill=\"#39e581\" stroke=\"black\" d=\"M235.75,-179.5C235.75,-179.5 150.75,-179.5 150.75,-179.5 144.75,-179.5 138.75,-173.5 138.75,-167.5 138.75,-167.5 138.75,-123.5 138.75,-123.5 138.75,-117.5 144.75,-111.5 150.75,-111.5 150.75,-111.5 235.75,-111.5 235.75,-111.5 241.75,-111.5 247.75,-117.5 247.75,-123.5 247.75,-123.5 247.75,-167.5 247.75,-167.5 247.75,-173.5 241.75,-179.5 235.75,-179.5\"/>\n<text text-anchor=\"middle\" x=\"193.25\" y=\"-162.2\" font-family=\"Helvetica,sans-Serif\" font-size=\"14.00\">entropy = 0.0</text>\n<text text-anchor=\"middle\" x=\"193.25\" y=\"-147.2\" font-family=\"Helvetica,sans-Serif\" font-size=\"14.00\">samples = 2</text>\n<text text-anchor=\"middle\" x=\"193.25\" y=\"-132.2\" font-family=\"Helvetica,sans-Serif\" font-size=\"14.00\">value = [0, 2, 0]</text>\n<text text-anchor=\"middle\" x=\"193.25\" y=\"-117.2\" font-family=\"Helvetica,sans-Serif\" font-size=\"14.00\">class = class_1</text>\n</g>\n<!-- 5&#45;&gt;7 -->\n<g id=\"edge7\" class=\"edge\">\n<title>5&#45;&gt;7</title>\n<path fill=\"none\" stroke=\"black\" d=\"M191.3,-222.58C191.56,-212.43 191.84,-201.5 192.1,-191.18\"/>\n<polygon fill=\"black\" stroke=\"black\" points=\"195.6,-191.46 192.36,-181.37 188.6,-191.28 195.6,-191.46\"/>\n</g>\n<!-- 9 -->\n<g id=\"node10\" class=\"node\">\n<title>9</title>\n<path fill=\"#ffffff\" stroke=\"black\" d=\"M380.88,-306C380.88,-306 275.62,-306 275.62,-306 269.62,-306 263.62,-300 263.62,-294 263.62,-294 263.62,-235 263.62,-235 263.62,-229 269.62,-223 275.62,-223 275.62,-223 380.88,-223 380.88,-223 386.88,-223 392.88,-229 392.88,-235 392.88,-235 392.88,-294 392.88,-294 392.88,-300 386.88,-306 380.88,-306\"/>\n<text text-anchor=\"middle\" x=\"328.25\" y=\"-288.7\" font-family=\"Helvetica,sans-Serif\" font-size=\"14.00\">proline &lt;= 600.409</text>\n<text text-anchor=\"middle\" x=\"328.25\" y=\"-273.7\" font-family=\"Helvetica,sans-Serif\" font-size=\"14.00\">entropy = 1.0</text>\n<text text-anchor=\"middle\" x=\"328.25\" y=\"-258.7\" font-family=\"Helvetica,sans-Serif\" font-size=\"14.00\">samples = 2</text>\n<text text-anchor=\"middle\" x=\"328.25\" y=\"-243.7\" font-family=\"Helvetica,sans-Serif\" font-size=\"14.00\">value = [0, 1, 1]</text>\n<text text-anchor=\"middle\" x=\"328.25\" y=\"-228.7\" font-family=\"Helvetica,sans-Serif\" font-size=\"14.00\">class = class_1</text>\n</g>\n<!-- 8&#45;&gt;9 -->\n<g id=\"edge9\" class=\"edge\">\n<title>8&#45;&gt;9</title>\n<path fill=\"none\" stroke=\"black\" d=\"M338.65,-341.58C337.59,-333.79 336.46,-325.53 335.35,-317.45\"/>\n<polygon fill=\"black\" stroke=\"black\" points=\"338.84,-317.13 334.02,-307.7 331.91,-318.08 338.84,-317.13\"/>\n</g>\n<!-- 12 -->\n<g id=\"node13\" class=\"node\">\n<title>12</title>\n<path fill=\"#39e581\" stroke=\"black\" d=\"M507.75,-298.5C507.75,-298.5 422.75,-298.5 422.75,-298.5 416.75,-298.5 410.75,-292.5 410.75,-286.5 410.75,-286.5 410.75,-242.5 410.75,-242.5 410.75,-236.5 416.75,-230.5 422.75,-230.5 422.75,-230.5 507.75,-230.5 507.75,-230.5 513.75,-230.5 519.75,-236.5 519.75,-242.5 519.75,-242.5 519.75,-286.5 519.75,-286.5 519.75,-292.5 513.75,-298.5 507.75,-298.5\"/>\n<text text-anchor=\"middle\" x=\"465.25\" y=\"-281.2\" font-family=\"Helvetica,sans-Serif\" font-size=\"14.00\">entropy = 0.0</text>\n<text text-anchor=\"middle\" x=\"465.25\" y=\"-266.2\" font-family=\"Helvetica,sans-Serif\" font-size=\"14.00\">samples = 5</text>\n<text text-anchor=\"middle\" x=\"465.25\" y=\"-251.2\" font-family=\"Helvetica,sans-Serif\" font-size=\"14.00\">value = [0, 5, 0]</text>\n<text text-anchor=\"middle\" x=\"465.25\" y=\"-236.2\" font-family=\"Helvetica,sans-Serif\" font-size=\"14.00\">class = class_1</text>\n</g>\n<!-- 8&#45;&gt;12 -->\n<g id=\"edge12\" class=\"edge\">\n<title>8&#45;&gt;12</title>\n<path fill=\"none\" stroke=\"black\" d=\"M386.57,-341.58C398.31,-330.23 411.05,-317.9 422.8,-306.55\"/>\n<polygon fill=\"black\" stroke=\"black\" points=\"424.9,-309.38 429.66,-299.91 420.04,-304.35 424.9,-309.38\"/>\n</g>\n<!-- 10 -->\n<g id=\"node11\" class=\"node\">\n<title>10</title>\n<path fill=\"#39e581\" stroke=\"black\" d=\"M365.75,-179.5C365.75,-179.5 280.75,-179.5 280.75,-179.5 274.75,-179.5 268.75,-173.5 268.75,-167.5 268.75,-167.5 268.75,-123.5 268.75,-123.5 268.75,-117.5 274.75,-111.5 280.75,-111.5 280.75,-111.5 365.75,-111.5 365.75,-111.5 371.75,-111.5 377.75,-117.5 377.75,-123.5 377.75,-123.5 377.75,-167.5 377.75,-167.5 377.75,-173.5 371.75,-179.5 365.75,-179.5\"/>\n<text text-anchor=\"middle\" x=\"323.25\" y=\"-162.2\" font-family=\"Helvetica,sans-Serif\" font-size=\"14.00\">entropy = 0.0</text>\n<text text-anchor=\"middle\" x=\"323.25\" y=\"-147.2\" font-family=\"Helvetica,sans-Serif\" font-size=\"14.00\">samples = 1</text>\n<text text-anchor=\"middle\" x=\"323.25\" y=\"-132.2\" font-family=\"Helvetica,sans-Serif\" font-size=\"14.00\">value = [0, 1, 0]</text>\n<text text-anchor=\"middle\" x=\"323.25\" y=\"-117.2\" font-family=\"Helvetica,sans-Serif\" font-size=\"14.00\">class = class_1</text>\n</g>\n<!-- 9&#45;&gt;10 -->\n<g id=\"edge10\" class=\"edge\">\n<title>9&#45;&gt;10</title>\n<path fill=\"none\" stroke=\"black\" d=\"M326.5,-222.58C326.07,-212.43 325.6,-201.5 325.16,-191.18\"/>\n<polygon fill=\"black\" stroke=\"black\" points=\"328.66,-191.21 324.74,-181.37 321.67,-191.51 328.66,-191.21\"/>\n</g>\n<!-- 11 -->\n<g id=\"node12\" class=\"node\">\n<title>11</title>\n<path fill=\"#8139e5\" stroke=\"black\" d=\"M492.75,-179.5C492.75,-179.5 407.75,-179.5 407.75,-179.5 401.75,-179.5 395.75,-173.5 395.75,-167.5 395.75,-167.5 395.75,-123.5 395.75,-123.5 395.75,-117.5 401.75,-111.5 407.75,-111.5 407.75,-111.5 492.75,-111.5 492.75,-111.5 498.75,-111.5 504.75,-117.5 504.75,-123.5 504.75,-123.5 504.75,-167.5 504.75,-167.5 504.75,-173.5 498.75,-179.5 492.75,-179.5\"/>\n<text text-anchor=\"middle\" x=\"450.25\" y=\"-162.2\" font-family=\"Helvetica,sans-Serif\" font-size=\"14.00\">entropy = 0.0</text>\n<text text-anchor=\"middle\" x=\"450.25\" y=\"-147.2\" font-family=\"Helvetica,sans-Serif\" font-size=\"14.00\">samples = 1</text>\n<text text-anchor=\"middle\" x=\"450.25\" y=\"-132.2\" font-family=\"Helvetica,sans-Serif\" font-size=\"14.00\">value = [0, 0, 1]</text>\n<text text-anchor=\"middle\" x=\"450.25\" y=\"-117.2\" font-family=\"Helvetica,sans-Serif\" font-size=\"14.00\">class = class_2</text>\n</g>\n<!-- 9&#45;&gt;11 -->\n<g id=\"edge11\" class=\"edge\">\n<title>9&#45;&gt;11</title>\n<path fill=\"none\" stroke=\"black\" d=\"M370.92,-222.58C382.76,-211.23 395.61,-198.9 407.45,-187.55\"/>\n<polygon fill=\"black\" stroke=\"black\" points=\"409.58,-190.36 414.37,-180.91 404.73,-185.3 409.58,-190.36\"/>\n</g>\n<!-- 14 -->\n<g id=\"node15\" class=\"node\">\n<title>14</title>\n<path fill=\"#8139e5\" stroke=\"black\" d=\"M530.75,-417.5C530.75,-417.5 445.75,-417.5 445.75,-417.5 439.75,-417.5 433.75,-411.5 433.75,-405.5 433.75,-405.5 433.75,-361.5 433.75,-361.5 433.75,-355.5 439.75,-349.5 445.75,-349.5 445.75,-349.5 530.75,-349.5 530.75,-349.5 536.75,-349.5 542.75,-355.5 542.75,-361.5 542.75,-361.5 542.75,-405.5 542.75,-405.5 542.75,-411.5 536.75,-417.5 530.75,-417.5\"/>\n<text text-anchor=\"middle\" x=\"488.25\" y=\"-400.2\" font-family=\"Helvetica,sans-Serif\" font-size=\"14.00\">entropy = 0.0</text>\n<text text-anchor=\"middle\" x=\"488.25\" y=\"-385.2\" font-family=\"Helvetica,sans-Serif\" font-size=\"14.00\">samples = 2</text>\n<text text-anchor=\"middle\" x=\"488.25\" y=\"-370.2\" font-family=\"Helvetica,sans-Serif\" font-size=\"14.00\">value = [0, 0, 2]</text>\n<text text-anchor=\"middle\" x=\"488.25\" y=\"-355.2\" font-family=\"Helvetica,sans-Serif\" font-size=\"14.00\">class = class_2</text>\n</g>\n<!-- 13&#45;&gt;14 -->\n<g id=\"edge14\" class=\"edge\">\n<title>13&#45;&gt;14</title>\n<path fill=\"none\" stroke=\"black\" d=\"M490.2,-460.58C489.94,-450.43 489.66,-439.5 489.4,-429.18\"/>\n<polygon fill=\"black\" stroke=\"black\" points=\"492.9,-429.28 489.14,-419.37 485.9,-429.46 492.9,-429.28\"/>\n</g>\n<!-- 15 -->\n<g id=\"node16\" class=\"node\">\n<title>15</title>\n<path fill=\"#40e685\" stroke=\"black\" d=\"M677.88,-425C677.88,-425 572.62,-425 572.62,-425 566.62,-425 560.62,-419 560.62,-413 560.62,-413 560.62,-354 560.62,-354 560.62,-348 566.62,-342 572.62,-342 572.62,-342 677.88,-342 677.88,-342 683.88,-342 689.88,-348 689.88,-354 689.88,-354 689.88,-413 689.88,-413 689.88,-419 683.88,-425 677.88,-425\"/>\n<text text-anchor=\"middle\" x=\"625.25\" y=\"-407.7\" font-family=\"Helvetica,sans-Serif\" font-size=\"14.00\">proline &lt;= 906.684</text>\n<text text-anchor=\"middle\" x=\"625.25\" y=\"-392.7\" font-family=\"Helvetica,sans-Serif\" font-size=\"14.00\">entropy = 0.211</text>\n<text text-anchor=\"middle\" x=\"625.25\" y=\"-377.7\" font-family=\"Helvetica,sans-Serif\" font-size=\"14.00\">samples = 30</text>\n<text text-anchor=\"middle\" x=\"625.25\" y=\"-362.7\" font-family=\"Helvetica,sans-Serif\" font-size=\"14.00\">value = [1, 29, 0]</text>\n<text text-anchor=\"middle\" x=\"625.25\" y=\"-347.7\" font-family=\"Helvetica,sans-Serif\" font-size=\"14.00\">class = class_1</text>\n</g>\n<!-- 13&#45;&gt;15 -->\n<g id=\"edge15\" class=\"edge\">\n<title>13&#45;&gt;15</title>\n<path fill=\"none\" stroke=\"black\" d=\"M538.12,-460.58C548.48,-451.53 559.55,-441.87 570.2,-432.56\"/>\n<polygon fill=\"black\" stroke=\"black\" points=\"572.27,-435.41 577.5,-426.2 567.66,-430.14 572.27,-435.41\"/>\n</g>\n<!-- 16 -->\n<g id=\"node17\" class=\"node\">\n<title>16</title>\n<path fill=\"#39e581\" stroke=\"black\" d=\"M642.5,-298.5C642.5,-298.5 550,-298.5 550,-298.5 544,-298.5 538,-292.5 538,-286.5 538,-286.5 538,-242.5 538,-242.5 538,-236.5 544,-230.5 550,-230.5 550,-230.5 642.5,-230.5 642.5,-230.5 648.5,-230.5 654.5,-236.5 654.5,-242.5 654.5,-242.5 654.5,-286.5 654.5,-286.5 654.5,-292.5 648.5,-298.5 642.5,-298.5\"/>\n<text text-anchor=\"middle\" x=\"596.25\" y=\"-281.2\" font-family=\"Helvetica,sans-Serif\" font-size=\"14.00\">entropy = 0.0</text>\n<text text-anchor=\"middle\" x=\"596.25\" y=\"-266.2\" font-family=\"Helvetica,sans-Serif\" font-size=\"14.00\">samples = 29</text>\n<text text-anchor=\"middle\" x=\"596.25\" y=\"-251.2\" font-family=\"Helvetica,sans-Serif\" font-size=\"14.00\">value = [0, 29, 0]</text>\n<text text-anchor=\"middle\" x=\"596.25\" y=\"-236.2\" font-family=\"Helvetica,sans-Serif\" font-size=\"14.00\">class = class_1</text>\n</g>\n<!-- 15&#45;&gt;16 -->\n<g id=\"edge16\" class=\"edge\">\n<title>15&#45;&gt;16</title>\n<path fill=\"none\" stroke=\"black\" d=\"M615.11,-341.58C612.56,-331.32 609.82,-320.27 607.24,-309.85\"/>\n<polygon fill=\"black\" stroke=\"black\" points=\"610.69,-309.19 604.88,-300.33 603.89,-310.88 610.69,-309.19\"/>\n</g>\n<!-- 17 -->\n<g id=\"node18\" class=\"node\">\n<title>17</title>\n<path fill=\"#e58139\" stroke=\"black\" d=\"M769.75,-298.5C769.75,-298.5 684.75,-298.5 684.75,-298.5 678.75,-298.5 672.75,-292.5 672.75,-286.5 672.75,-286.5 672.75,-242.5 672.75,-242.5 672.75,-236.5 678.75,-230.5 684.75,-230.5 684.75,-230.5 769.75,-230.5 769.75,-230.5 775.75,-230.5 781.75,-236.5 781.75,-242.5 781.75,-242.5 781.75,-286.5 781.75,-286.5 781.75,-292.5 775.75,-298.5 769.75,-298.5\"/>\n<text text-anchor=\"middle\" x=\"727.25\" y=\"-281.2\" font-family=\"Helvetica,sans-Serif\" font-size=\"14.00\">entropy = 0.0</text>\n<text text-anchor=\"middle\" x=\"727.25\" y=\"-266.2\" font-family=\"Helvetica,sans-Serif\" font-size=\"14.00\">samples = 1</text>\n<text text-anchor=\"middle\" x=\"727.25\" y=\"-251.2\" font-family=\"Helvetica,sans-Serif\" font-size=\"14.00\">value = [1, 0, 0]</text>\n<text text-anchor=\"middle\" x=\"727.25\" y=\"-236.2\" font-family=\"Helvetica,sans-Serif\" font-size=\"14.00\">class = class_0</text>\n</g>\n<!-- 15&#45;&gt;17 -->\n<g id=\"edge17\" class=\"edge\">\n<title>15&#45;&gt;17</title>\n<path fill=\"none\" stroke=\"black\" d=\"M660.92,-341.58C670.53,-330.56 680.95,-318.61 690.61,-307.53\"/>\n<polygon fill=\"black\" stroke=\"black\" points=\"693.24,-309.84 697.17,-300 687.96,-305.24 693.24,-309.84\"/>\n</g>\n<!-- 19 -->\n<g id=\"node20\" class=\"node\">\n<title>19</title>\n<path fill=\"#39e581\" stroke=\"black\" d=\"M748.5,-536.5C748.5,-536.5 656,-536.5 656,-536.5 650,-536.5 644,-530.5 644,-524.5 644,-524.5 644,-480.5 644,-480.5 644,-474.5 650,-468.5 656,-468.5 656,-468.5 748.5,-468.5 748.5,-468.5 754.5,-468.5 760.5,-474.5 760.5,-480.5 760.5,-480.5 760.5,-524.5 760.5,-524.5 760.5,-530.5 754.5,-536.5 748.5,-536.5\"/>\n<text text-anchor=\"middle\" x=\"702.25\" y=\"-519.2\" font-family=\"Helvetica,sans-Serif\" font-size=\"14.00\">entropy = 0.0</text>\n<text text-anchor=\"middle\" x=\"702.25\" y=\"-504.2\" font-family=\"Helvetica,sans-Serif\" font-size=\"14.00\">samples = 14</text>\n<text text-anchor=\"middle\" x=\"702.25\" y=\"-489.2\" font-family=\"Helvetica,sans-Serif\" font-size=\"14.00\">value = [0, 14, 0]</text>\n<text text-anchor=\"middle\" x=\"702.25\" y=\"-474.2\" font-family=\"Helvetica,sans-Serif\" font-size=\"14.00\">class = class_1</text>\n</g>\n<!-- 18&#45;&gt;19 -->\n<g id=\"edge19\" class=\"edge\">\n<title>18&#45;&gt;19</title>\n<path fill=\"none\" stroke=\"black\" d=\"M702.25,-579.58C702.25,-569.43 702.25,-558.5 702.25,-548.18\"/>\n<polygon fill=\"black\" stroke=\"black\" points=\"705.75,-548.37 702.25,-538.37 698.75,-548.37 705.75,-548.37\"/>\n</g>\n<!-- 20 -->\n<g id=\"node21\" class=\"node\">\n<title>20</title>\n<path fill=\"#e78c4b\" stroke=\"black\" d=\"M917.38,-544C917.38,-544 791.12,-544 791.12,-544 785.12,-544 779.12,-538 779.12,-532 779.12,-532 779.12,-473 779.12,-473 779.12,-467 785.12,-461 791.12,-461 791.12,-461 917.38,-461 917.38,-461 923.38,-461 929.38,-467 929.38,-473 929.38,-473 929.38,-532 929.38,-532 929.38,-538 923.38,-544 917.38,-544\"/>\n<text text-anchor=\"middle\" x=\"854.25\" y=\"-526.7\" font-family=\"Helvetica,sans-Serif\" font-size=\"14.00\">hue &lt;= 1.289</text>\n<text text-anchor=\"middle\" x=\"854.25\" y=\"-511.7\" font-family=\"Helvetica,sans-Serif\" font-size=\"14.00\">entropy = 0.408</text>\n<text text-anchor=\"middle\" x=\"854.25\" y=\"-496.7\" font-family=\"Helvetica,sans-Serif\" font-size=\"14.00\">samples = 49</text>\n<text text-anchor=\"middle\" x=\"854.25\" y=\"-481.7\" font-family=\"Helvetica,sans-Serif\" font-size=\"14.00\">value = [45.0, 4.0, 0.0]</text>\n<text text-anchor=\"middle\" x=\"854.25\" y=\"-466.7\" font-family=\"Helvetica,sans-Serif\" font-size=\"14.00\">class = class_0</text>\n</g>\n<!-- 18&#45;&gt;20 -->\n<g id=\"edge20\" class=\"edge\">\n<title>18&#45;&gt;20</title>\n<path fill=\"none\" stroke=\"black\" d=\"M755.41,-579.58C767.33,-570.41 780.07,-560.6 792.31,-551.17\"/>\n<polygon fill=\"black\" stroke=\"black\" points=\"794.13,-554.19 799.92,-545.32 789.86,-548.65 794.13,-554.19\"/>\n</g>\n<!-- 21 -->\n<g id=\"node22\" class=\"node\">\n<title>21</title>\n<path fill=\"#e68742\" stroke=\"black\" d=\"M900.5,-425C900.5,-425 808,-425 808,-425 802,-425 796,-419 796,-413 796,-413 796,-354 796,-354 796,-348 802,-342 808,-342 808,-342 900.5,-342 900.5,-342 906.5,-342 912.5,-348 912.5,-354 912.5,-354 912.5,-413 912.5,-413 912.5,-419 906.5,-425 900.5,-425\"/>\n<text text-anchor=\"middle\" x=\"854.25\" y=\"-407.7\" font-family=\"Helvetica,sans-Serif\" font-size=\"14.00\">hue &lt;= 0.735</text>\n<text text-anchor=\"middle\" x=\"854.25\" y=\"-392.7\" font-family=\"Helvetica,sans-Serif\" font-size=\"14.00\">entropy = 0.254</text>\n<text text-anchor=\"middle\" x=\"854.25\" y=\"-377.7\" font-family=\"Helvetica,sans-Serif\" font-size=\"14.00\">samples = 47</text>\n<text text-anchor=\"middle\" x=\"854.25\" y=\"-362.7\" font-family=\"Helvetica,sans-Serif\" font-size=\"14.00\">value = [45, 2, 0]</text>\n<text text-anchor=\"middle\" x=\"854.25\" y=\"-347.7\" font-family=\"Helvetica,sans-Serif\" font-size=\"14.00\">class = class_0</text>\n</g>\n<!-- 20&#45;&gt;21 -->\n<g id=\"edge21\" class=\"edge\">\n<title>20&#45;&gt;21</title>\n<path fill=\"none\" stroke=\"black\" d=\"M854.25,-460.58C854.25,-452.79 854.25,-444.53 854.25,-436.45\"/>\n<polygon fill=\"black\" stroke=\"black\" points=\"857.75,-436.71 854.25,-426.71 850.75,-436.71 857.75,-436.71\"/>\n</g>\n<!-- 28 -->\n<g id=\"node29\" class=\"node\">\n<title>28</title>\n<path fill=\"#39e581\" stroke=\"black\" d=\"M1027.75,-417.5C1027.75,-417.5 942.75,-417.5 942.75,-417.5 936.75,-417.5 930.75,-411.5 930.75,-405.5 930.75,-405.5 930.75,-361.5 930.75,-361.5 930.75,-355.5 936.75,-349.5 942.75,-349.5 942.75,-349.5 1027.75,-349.5 1027.75,-349.5 1033.75,-349.5 1039.75,-355.5 1039.75,-361.5 1039.75,-361.5 1039.75,-405.5 1039.75,-405.5 1039.75,-411.5 1033.75,-417.5 1027.75,-417.5\"/>\n<text text-anchor=\"middle\" x=\"985.25\" y=\"-400.2\" font-family=\"Helvetica,sans-Serif\" font-size=\"14.00\">entropy = 0.0</text>\n<text text-anchor=\"middle\" x=\"985.25\" y=\"-385.2\" font-family=\"Helvetica,sans-Serif\" font-size=\"14.00\">samples = 2</text>\n<text text-anchor=\"middle\" x=\"985.25\" y=\"-370.2\" font-family=\"Helvetica,sans-Serif\" font-size=\"14.00\">value = [0, 2, 0]</text>\n<text text-anchor=\"middle\" x=\"985.25\" y=\"-355.2\" font-family=\"Helvetica,sans-Serif\" font-size=\"14.00\">class = class_1</text>\n</g>\n<!-- 20&#45;&gt;28 -->\n<g id=\"edge28\" class=\"edge\">\n<title>20&#45;&gt;28</title>\n<path fill=\"none\" stroke=\"black\" d=\"M900.07,-460.58C912.9,-449.12 926.84,-436.67 939.66,-425.22\"/>\n<polygon fill=\"black\" stroke=\"black\" points=\"941.64,-428.14 946.77,-418.87 936.98,-422.92 941.64,-428.14\"/>\n</g>\n<!-- 22 -->\n<g id=\"node23\" class=\"node\">\n<title>22</title>\n<path fill=\"#39e581\" stroke=\"black\" d=\"M896.75,-298.5C896.75,-298.5 811.75,-298.5 811.75,-298.5 805.75,-298.5 799.75,-292.5 799.75,-286.5 799.75,-286.5 799.75,-242.5 799.75,-242.5 799.75,-236.5 805.75,-230.5 811.75,-230.5 811.75,-230.5 896.75,-230.5 896.75,-230.5 902.75,-230.5 908.75,-236.5 908.75,-242.5 908.75,-242.5 908.75,-286.5 908.75,-286.5 908.75,-292.5 902.75,-298.5 896.75,-298.5\"/>\n<text text-anchor=\"middle\" x=\"854.25\" y=\"-281.2\" font-family=\"Helvetica,sans-Serif\" font-size=\"14.00\">entropy = 0.0</text>\n<text text-anchor=\"middle\" x=\"854.25\" y=\"-266.2\" font-family=\"Helvetica,sans-Serif\" font-size=\"14.00\">samples = 1</text>\n<text text-anchor=\"middle\" x=\"854.25\" y=\"-251.2\" font-family=\"Helvetica,sans-Serif\" font-size=\"14.00\">value = [0, 1, 0]</text>\n<text text-anchor=\"middle\" x=\"854.25\" y=\"-236.2\" font-family=\"Helvetica,sans-Serif\" font-size=\"14.00\">class = class_1</text>\n</g>\n<!-- 21&#45;&gt;22 -->\n<g id=\"edge22\" class=\"edge\">\n<title>21&#45;&gt;22</title>\n<path fill=\"none\" stroke=\"black\" d=\"M854.25,-341.58C854.25,-331.43 854.25,-320.5 854.25,-310.18\"/>\n<polygon fill=\"black\" stroke=\"black\" points=\"857.75,-310.37 854.25,-300.37 850.75,-310.37 857.75,-310.37\"/>\n</g>\n<!-- 23 -->\n<g id=\"node24\" class=\"node\">\n<title>23</title>\n<path fill=\"#e6843d\" stroke=\"black\" d=\"M1045.62,-306C1045.62,-306 938.88,-306 938.88,-306 932.88,-306 926.88,-300 926.88,-294 926.88,-294 926.88,-235 926.88,-235 926.88,-229 932.88,-223 938.88,-223 938.88,-223 1045.62,-223 1045.62,-223 1051.62,-223 1057.62,-229 1057.62,-235 1057.62,-235 1057.62,-294 1057.62,-294 1057.62,-300 1051.62,-306 1045.62,-306\"/>\n<text text-anchor=\"middle\" x=\"992.25\" y=\"-288.7\" font-family=\"Helvetica,sans-Serif\" font-size=\"14.00\">malic_acid &lt;= 1.55</text>\n<text text-anchor=\"middle\" x=\"992.25\" y=\"-273.7\" font-family=\"Helvetica,sans-Serif\" font-size=\"14.00\">entropy = 0.151</text>\n<text text-anchor=\"middle\" x=\"992.25\" y=\"-258.7\" font-family=\"Helvetica,sans-Serif\" font-size=\"14.00\">samples = 46</text>\n<text text-anchor=\"middle\" x=\"992.25\" y=\"-243.7\" font-family=\"Helvetica,sans-Serif\" font-size=\"14.00\">value = [45, 1, 0]</text>\n<text text-anchor=\"middle\" x=\"992.25\" y=\"-228.7\" font-family=\"Helvetica,sans-Serif\" font-size=\"14.00\">class = class_0</text>\n</g>\n<!-- 21&#45;&gt;23 -->\n<g id=\"edge23\" class=\"edge\">\n<title>21&#45;&gt;23</title>\n<path fill=\"none\" stroke=\"black\" d=\"M902.52,-341.58C913.19,-332.53 924.59,-322.87 935.56,-313.56\"/>\n<polygon fill=\"black\" stroke=\"black\" points=\"937.73,-316.32 943.09,-307.18 933.2,-310.98 937.73,-316.32\"/>\n</g>\n<!-- 24 -->\n<g id=\"node25\" class=\"node\">\n<title>24</title>\n<path fill=\"#e9965a\" stroke=\"black\" d=\"M969.5,-187C969.5,-187 883,-187 883,-187 877,-187 871,-181 871,-175 871,-175 871,-116 871,-116 871,-110 877,-104 883,-104 883,-104 969.5,-104 969.5,-104 975.5,-104 981.5,-110 981.5,-116 981.5,-116 981.5,-175 981.5,-175 981.5,-181 975.5,-187 969.5,-187\"/>\n<text text-anchor=\"middle\" x=\"926.25\" y=\"-169.7\" font-family=\"Helvetica,sans-Serif\" font-size=\"14.00\">ash &lt;= 1.725</text>\n<text text-anchor=\"middle\" x=\"926.25\" y=\"-154.7\" font-family=\"Helvetica,sans-Serif\" font-size=\"14.00\">entropy = 0.592</text>\n<text text-anchor=\"middle\" x=\"926.25\" y=\"-139.7\" font-family=\"Helvetica,sans-Serif\" font-size=\"14.00\">samples = 7</text>\n<text text-anchor=\"middle\" x=\"926.25\" y=\"-124.7\" font-family=\"Helvetica,sans-Serif\" font-size=\"14.00\">value = [6, 1, 0]</text>\n<text text-anchor=\"middle\" x=\"926.25\" y=\"-109.7\" font-family=\"Helvetica,sans-Serif\" font-size=\"14.00\">class = class_0</text>\n</g>\n<!-- 23&#45;&gt;24 -->\n<g id=\"edge24\" class=\"edge\">\n<title>23&#45;&gt;24</title>\n<path fill=\"none\" stroke=\"black\" d=\"M969.17,-222.58C964.52,-214.34 959.58,-205.58 954.77,-197.06\"/>\n<polygon fill=\"black\" stroke=\"black\" points=\"957.91,-195.51 949.95,-188.52 951.82,-198.95 957.91,-195.51\"/>\n</g>\n<!-- 27 -->\n<g id=\"node28\" class=\"node\">\n<title>27</title>\n<path fill=\"#e58139\" stroke=\"black\" d=\"M1104.5,-179.5C1104.5,-179.5 1012,-179.5 1012,-179.5 1006,-179.5 1000,-173.5 1000,-167.5 1000,-167.5 1000,-123.5 1000,-123.5 1000,-117.5 1006,-111.5 1012,-111.5 1012,-111.5 1104.5,-111.5 1104.5,-111.5 1110.5,-111.5 1116.5,-117.5 1116.5,-123.5 1116.5,-123.5 1116.5,-167.5 1116.5,-167.5 1116.5,-173.5 1110.5,-179.5 1104.5,-179.5\"/>\n<text text-anchor=\"middle\" x=\"1058.25\" y=\"-162.2\" font-family=\"Helvetica,sans-Serif\" font-size=\"14.00\">entropy = 0.0</text>\n<text text-anchor=\"middle\" x=\"1058.25\" y=\"-147.2\" font-family=\"Helvetica,sans-Serif\" font-size=\"14.00\">samples = 39</text>\n<text text-anchor=\"middle\" x=\"1058.25\" y=\"-132.2\" font-family=\"Helvetica,sans-Serif\" font-size=\"14.00\">value = [39, 0, 0]</text>\n<text text-anchor=\"middle\" x=\"1058.25\" y=\"-117.2\" font-family=\"Helvetica,sans-Serif\" font-size=\"14.00\">class = class_0</text>\n</g>\n<!-- 23&#45;&gt;27 -->\n<g id=\"edge27\" class=\"edge\">\n<title>23&#45;&gt;27</title>\n<path fill=\"none\" stroke=\"black\" d=\"M1015.33,-222.58C1021.31,-211.99 1027.76,-200.56 1033.79,-189.85\"/>\n<polygon fill=\"black\" stroke=\"black\" points=\"1036.82,-191.61 1038.69,-181.18 1030.73,-188.17 1036.82,-191.61\"/>\n</g>\n<!-- 25 -->\n<g id=\"node26\" class=\"node\">\n<title>25</title>\n<path fill=\"#39e581\" stroke=\"black\" d=\"M904.75,-68C904.75,-68 819.75,-68 819.75,-68 813.75,-68 807.75,-62 807.75,-56 807.75,-56 807.75,-12 807.75,-12 807.75,-6 813.75,0 819.75,0 819.75,0 904.75,0 904.75,0 910.75,0 916.75,-6 916.75,-12 916.75,-12 916.75,-56 916.75,-56 916.75,-62 910.75,-68 904.75,-68\"/>\n<text text-anchor=\"middle\" x=\"862.25\" y=\"-50.7\" font-family=\"Helvetica,sans-Serif\" font-size=\"14.00\">entropy = 0.0</text>\n<text text-anchor=\"middle\" x=\"862.25\" y=\"-35.7\" font-family=\"Helvetica,sans-Serif\" font-size=\"14.00\">samples = 1</text>\n<text text-anchor=\"middle\" x=\"862.25\" y=\"-20.7\" font-family=\"Helvetica,sans-Serif\" font-size=\"14.00\">value = [0, 1, 0]</text>\n<text text-anchor=\"middle\" x=\"862.25\" y=\"-5.7\" font-family=\"Helvetica,sans-Serif\" font-size=\"14.00\">class = class_1</text>\n</g>\n<!-- 24&#45;&gt;25 -->\n<g id=\"edge25\" class=\"edge\">\n<title>24&#45;&gt;25</title>\n<path fill=\"none\" stroke=\"black\" d=\"M902.42,-103.73C897.51,-95.34 892.34,-86.47 887.39,-78.01\"/>\n<polygon fill=\"black\" stroke=\"black\" points=\"890.54,-76.47 882.48,-69.61 884.5,-80.01 890.54,-76.47\"/>\n</g>\n<!-- 26 -->\n<g id=\"node27\" class=\"node\">\n<title>26</title>\n<path fill=\"#e58139\" stroke=\"black\" d=\"M1031.75,-68C1031.75,-68 946.75,-68 946.75,-68 940.75,-68 934.75,-62 934.75,-56 934.75,-56 934.75,-12 934.75,-12 934.75,-6 940.75,0 946.75,0 946.75,0 1031.75,0 1031.75,0 1037.75,0 1043.75,-6 1043.75,-12 1043.75,-12 1043.75,-56 1043.75,-56 1043.75,-62 1037.75,-68 1031.75,-68\"/>\n<text text-anchor=\"middle\" x=\"989.25\" y=\"-50.7\" font-family=\"Helvetica,sans-Serif\" font-size=\"14.00\">entropy = 0.0</text>\n<text text-anchor=\"middle\" x=\"989.25\" y=\"-35.7\" font-family=\"Helvetica,sans-Serif\" font-size=\"14.00\">samples = 6</text>\n<text text-anchor=\"middle\" x=\"989.25\" y=\"-20.7\" font-family=\"Helvetica,sans-Serif\" font-size=\"14.00\">value = [6, 0, 0]</text>\n<text text-anchor=\"middle\" x=\"989.25\" y=\"-5.7\" font-family=\"Helvetica,sans-Serif\" font-size=\"14.00\">class = class_0</text>\n</g>\n<!-- 24&#45;&gt;26 -->\n<g id=\"edge26\" class=\"edge\">\n<title>24&#45;&gt;26</title>\n<path fill=\"none\" stroke=\"black\" d=\"M949.71,-103.73C954.54,-95.34 959.63,-86.47 964.51,-78.01\"/>\n<polygon fill=\"black\" stroke=\"black\" points=\"967.38,-80.02 969.34,-69.61 961.32,-76.53 967.38,-80.02\"/>\n</g>\n</g>\n</svg>\n",
      "text/plain": [
       "<graphviz.sources.Source at 0x139ba2cc0>"
      ]
     },
     "execution_count": 216,
     "metadata": {},
     "output_type": "execute_result"
    }
   ],
   "execution_count": 216
  },
  {
   "metadata": {
    "ExecuteTime": {
     "end_time": "2024-11-14T21:34:32.231053Z",
     "start_time": "2024-11-14T21:34:32.219454Z"
    }
   },
   "cell_type": "code",
   "source": [
    "# 评估模型在训练集上的准确度\n",
    "score = clf.score(xtrain, ytrain)\n",
    "score  # 输出模型的准确度"
   ],
   "id": "1a068a2c1ce39943",
   "outputs": [
    {
     "data": {
      "text/plain": [
       "1.0"
      ]
     },
     "execution_count": 217,
     "metadata": {},
     "output_type": "execute_result"
    }
   ],
   "execution_count": 217
  },
  {
   "metadata": {
    "ExecuteTime": {
     "end_time": "2024-11-14T21:34:32.376445Z",
     "start_time": "2024-11-14T21:34:32.238002Z"
    }
   },
   "cell_type": "code",
   "source": [
    "from sklearn import tree\n",
    "import graphviz\n",
    "\n",
    "# 定义决策树分类器，使用信息熵作为划分标准，随机种子设为30，分割方式设为随机\n",
    "clf = tree.DecisionTreeClassifier(\n",
    "                                    criterion=\"entropy\",\n",
    "                                    random_state=30,\n",
    "                                    splitter=\"random\",\n",
    "                                    max_depth=3,  #设置最大限度为3\n",
    "                                    # min_samples_leaf=10,\n",
    "                                    # min_samples_split=10\n",
    "                                )\n",
    "\n",
    "# 训练模型\n",
    "clf = clf.fit(xtrain, ytrain)\n",
    "\n",
    "# 使用 graphviz 可视化决策树\n",
    "dot_data = tree.export_graphviz(\n",
    "    clf,\n",
    "    feature_names=wine.feature_names,  # 特征名称列表\n",
    "    class_names=wine.target_names,  # 类别名称列表\n",
    "    filled=True,  # 填充颜色\n",
    "    rounded=True  # 使用圆角框\n",
    ")\n",
    "\n",
    "# 生成并显示决策树图像\n",
    "graph = graphviz.Source(dot_data)\n",
    "graph"
   ],
   "id": "b9836c20ec9414d9",
   "outputs": [
    {
     "data": {
      "image/svg+xml": "<?xml version=\"1.0\" encoding=\"UTF-8\" standalone=\"no\"?>\n<!DOCTYPE svg PUBLIC \"-//W3C//DTD SVG 1.1//EN\"\n \"http://www.w3.org/Graphics/SVG/1.1/DTD/svg11.dtd\">\n<!-- Generated by graphviz version 12.2.0 (20241103.1931)\n -->\n<!-- Title: Tree Pages: 1 -->\n<svg width=\"818pt\" height=\"433pt\"\n viewBox=\"0.00 0.00 817.50 433.00\" xmlns=\"http://www.w3.org/2000/svg\" xmlns:xlink=\"http://www.w3.org/1999/xlink\">\n<g id=\"graph0\" class=\"graph\" transform=\"scale(1 1) rotate(0) translate(4 429)\">\n<title>Tree</title>\n<polygon fill=\"white\" stroke=\"none\" points=\"-4,4 -4,-429 813.5,-429 813.5,4 -4,4\"/>\n<!-- 0 -->\n<g id=\"node1\" class=\"node\">\n<title>0</title>\n<path fill=\"#e8fcf0\" stroke=\"black\" d=\"M472,-425C472,-425 364.5,-425 364.5,-425 358.5,-425 352.5,-419 352.5,-413 352.5,-413 352.5,-354 352.5,-354 352.5,-348 358.5,-342 364.5,-342 364.5,-342 472,-342 472,-342 478,-342 484,-348 484,-354 484,-354 484,-413 484,-413 484,-419 478,-425 472,-425\"/>\n<text text-anchor=\"middle\" x=\"418.25\" y=\"-407.7\" font-family=\"Helvetica,sans-Serif\" font-size=\"14.00\">flavanoids &lt;= 2.24</text>\n<text text-anchor=\"middle\" x=\"418.25\" y=\"-392.7\" font-family=\"Helvetica,sans-Serif\" font-size=\"14.00\">entropy = 1.502</text>\n<text text-anchor=\"middle\" x=\"418.25\" y=\"-377.7\" font-family=\"Helvetica,sans-Serif\" font-size=\"14.00\">samples = 124</text>\n<text text-anchor=\"middle\" x=\"418.25\" y=\"-362.7\" font-family=\"Helvetica,sans-Serif\" font-size=\"14.00\">value = [46, 55, 23]</text>\n<text text-anchor=\"middle\" x=\"418.25\" y=\"-347.7\" font-family=\"Helvetica,sans-Serif\" font-size=\"14.00\">class = class_1</text>\n</g>\n<!-- 1 -->\n<g id=\"node2\" class=\"node\">\n<title>1</title>\n<path fill=\"#b6f5d1\" stroke=\"black\" d=\"M430.5,-306C430.5,-306 194,-306 194,-306 188,-306 182,-300 182,-294 182,-294 182,-235 182,-235 182,-229 188,-223 194,-223 194,-223 430.5,-223 430.5,-223 436.5,-223 442.5,-229 442.5,-235 442.5,-235 442.5,-294 442.5,-294 442.5,-300 436.5,-306 430.5,-306\"/>\n<text text-anchor=\"middle\" x=\"312.25\" y=\"-288.7\" font-family=\"Helvetica,sans-Serif\" font-size=\"14.00\">od280/od315_of_diluted_wines &lt;= 2.191</text>\n<text text-anchor=\"middle\" x=\"312.25\" y=\"-273.7\" font-family=\"Helvetica,sans-Serif\" font-size=\"14.00\">entropy = 1.065</text>\n<text text-anchor=\"middle\" x=\"312.25\" y=\"-258.7\" font-family=\"Helvetica,sans-Serif\" font-size=\"14.00\">samples = 61</text>\n<text text-anchor=\"middle\" x=\"312.25\" y=\"-243.7\" font-family=\"Helvetica,sans-Serif\" font-size=\"14.00\">value = [1, 37, 23]</text>\n<text text-anchor=\"middle\" x=\"312.25\" y=\"-228.7\" font-family=\"Helvetica,sans-Serif\" font-size=\"14.00\">class = class_1</text>\n</g>\n<!-- 0&#45;&gt;1 -->\n<g id=\"edge1\" class=\"edge\">\n<title>0&#45;&gt;1</title>\n<path fill=\"none\" stroke=\"black\" d=\"M381.18,-341.58C373.3,-332.89 364.92,-323.63 356.8,-314.67\"/>\n<polygon fill=\"black\" stroke=\"black\" points=\"359.45,-312.38 350.14,-307.32 354.26,-317.08 359.45,-312.38\"/>\n<text text-anchor=\"middle\" x=\"347.89\" y=\"-325.37\" font-family=\"Helvetica,sans-Serif\" font-size=\"14.00\">True</text>\n</g>\n<!-- 8 -->\n<g id=\"node9\" class=\"node\">\n<title>8</title>\n<path fill=\"#efb388\" stroke=\"black\" d=\"M577.88,-306C577.88,-306 472.62,-306 472.62,-306 466.62,-306 460.62,-300 460.62,-294 460.62,-294 460.62,-235 460.62,-235 460.62,-229 466.62,-223 472.62,-223 472.62,-223 577.88,-223 577.88,-223 583.88,-223 589.88,-229 589.88,-235 589.88,-235 589.88,-294 589.88,-294 589.88,-300 583.88,-306 577.88,-306\"/>\n<text text-anchor=\"middle\" x=\"525.25\" y=\"-288.7\" font-family=\"Helvetica,sans-Serif\" font-size=\"14.00\">proline &lt;= 595.824</text>\n<text text-anchor=\"middle\" x=\"525.25\" y=\"-273.7\" font-family=\"Helvetica,sans-Serif\" font-size=\"14.00\">entropy = 0.863</text>\n<text text-anchor=\"middle\" x=\"525.25\" y=\"-258.7\" font-family=\"Helvetica,sans-Serif\" font-size=\"14.00\">samples = 63</text>\n<text text-anchor=\"middle\" x=\"525.25\" y=\"-243.7\" font-family=\"Helvetica,sans-Serif\" font-size=\"14.00\">value = [45, 18, 0]</text>\n<text text-anchor=\"middle\" x=\"525.25\" y=\"-228.7\" font-family=\"Helvetica,sans-Serif\" font-size=\"14.00\">class = class_0</text>\n</g>\n<!-- 0&#45;&gt;8 -->\n<g id=\"edge8\" class=\"edge\">\n<title>0&#45;&gt;8</title>\n<path fill=\"none\" stroke=\"black\" d=\"M455.67,-341.58C463.62,-332.89 472.09,-323.63 480.28,-314.67\"/>\n<polygon fill=\"black\" stroke=\"black\" points=\"482.84,-317.06 487.01,-307.32 477.68,-312.33 482.84,-317.06\"/>\n<text text-anchor=\"middle\" x=\"489.14\" y=\"-325.38\" font-family=\"Helvetica,sans-Serif\" font-size=\"14.00\">False</text>\n</g>\n<!-- 2 -->\n<g id=\"node3\" class=\"node\">\n<title>2</title>\n<path fill=\"#b184ef\" stroke=\"black\" d=\"M232.5,-187C232.5,-187 140,-187 140,-187 134,-187 128,-181 128,-175 128,-175 128,-116 128,-116 128,-110 134,-104 140,-104 140,-104 232.5,-104 232.5,-104 238.5,-104 244.5,-110 244.5,-116 244.5,-116 244.5,-175 244.5,-175 244.5,-181 238.5,-187 232.5,-187\"/>\n<text text-anchor=\"middle\" x=\"186.25\" y=\"-169.7\" font-family=\"Helvetica,sans-Serif\" font-size=\"14.00\">hue &lt;= 0.95</text>\n<text text-anchor=\"middle\" x=\"186.25\" y=\"-154.7\" font-family=\"Helvetica,sans-Serif\" font-size=\"14.00\">entropy = 0.85</text>\n<text text-anchor=\"middle\" x=\"186.25\" y=\"-139.7\" font-family=\"Helvetica,sans-Serif\" font-size=\"14.00\">samples = 29</text>\n<text text-anchor=\"middle\" x=\"186.25\" y=\"-124.7\" font-family=\"Helvetica,sans-Serif\" font-size=\"14.00\">value = [0, 8, 21]</text>\n<text text-anchor=\"middle\" x=\"186.25\" y=\"-109.7\" font-family=\"Helvetica,sans-Serif\" font-size=\"14.00\">class = class_2</text>\n</g>\n<!-- 1&#45;&gt;2 -->\n<g id=\"edge2\" class=\"edge\">\n<title>1&#45;&gt;2</title>\n<path fill=\"none\" stroke=\"black\" d=\"M268.18,-222.58C258.53,-213.62 248.23,-204.06 238.31,-194.84\"/>\n<polygon fill=\"black\" stroke=\"black\" points=\"240.9,-192.47 231.19,-188.23 236.14,-197.6 240.9,-192.47\"/>\n</g>\n<!-- 5 -->\n<g id=\"node6\" class=\"node\">\n<title>5</title>\n<path fill=\"#4de88e\" stroke=\"black\" d=\"M385.5,-187C385.5,-187 275,-187 275,-187 269,-187 263,-181 263,-175 263,-175 263,-116 263,-116 263,-110 269,-104 275,-104 275,-104 385.5,-104 385.5,-104 391.5,-104 397.5,-110 397.5,-116 397.5,-116 397.5,-175 397.5,-175 397.5,-181 391.5,-187 385.5,-187\"/>\n<text text-anchor=\"middle\" x=\"330.25\" y=\"-169.7\" font-family=\"Helvetica,sans-Serif\" font-size=\"14.00\">flavanoids &lt;= 1.085</text>\n<text text-anchor=\"middle\" x=\"330.25\" y=\"-154.7\" font-family=\"Helvetica,sans-Serif\" font-size=\"14.00\">entropy = 0.535</text>\n<text text-anchor=\"middle\" x=\"330.25\" y=\"-139.7\" font-family=\"Helvetica,sans-Serif\" font-size=\"14.00\">samples = 32</text>\n<text text-anchor=\"middle\" x=\"330.25\" y=\"-124.7\" font-family=\"Helvetica,sans-Serif\" font-size=\"14.00\">value = [1, 29, 2]</text>\n<text text-anchor=\"middle\" x=\"330.25\" y=\"-109.7\" font-family=\"Helvetica,sans-Serif\" font-size=\"14.00\">class = class_1</text>\n</g>\n<!-- 1&#45;&gt;5 -->\n<g id=\"edge5\" class=\"edge\">\n<title>1&#45;&gt;5</title>\n<path fill=\"none\" stroke=\"black\" d=\"M318.55,-222.58C319.74,-214.79 321.01,-206.53 322.26,-198.45\"/>\n<polygon fill=\"black\" stroke=\"black\" points=\"325.7,-199.11 323.76,-188.7 318.78,-198.05 325.7,-199.11\"/>\n</g>\n<!-- 3 -->\n<g id=\"node4\" class=\"node\">\n<title>3</title>\n<path fill=\"#8e4de8\" stroke=\"black\" d=\"M104.5,-68C104.5,-68 12,-68 12,-68 6,-68 0,-62 0,-56 0,-56 0,-12 0,-12 0,-6 6,0 12,0 12,0 104.5,0 104.5,0 110.5,0 116.5,-6 116.5,-12 116.5,-12 116.5,-56 116.5,-56 116.5,-62 110.5,-68 104.5,-68\"/>\n<text text-anchor=\"middle\" x=\"58.25\" y=\"-50.7\" font-family=\"Helvetica,sans-Serif\" font-size=\"14.00\">entropy = 0.439</text>\n<text text-anchor=\"middle\" x=\"58.25\" y=\"-35.7\" font-family=\"Helvetica,sans-Serif\" font-size=\"14.00\">samples = 22</text>\n<text text-anchor=\"middle\" x=\"58.25\" y=\"-20.7\" font-family=\"Helvetica,sans-Serif\" font-size=\"14.00\">value = [0, 2, 20]</text>\n<text text-anchor=\"middle\" x=\"58.25\" y=\"-5.7\" font-family=\"Helvetica,sans-Serif\" font-size=\"14.00\">class = class_2</text>\n</g>\n<!-- 2&#45;&gt;3 -->\n<g id=\"edge3\" class=\"edge\">\n<title>2&#45;&gt;3</title>\n<path fill=\"none\" stroke=\"black\" d=\"M138.59,-103.73C127.82,-94.51 116.39,-84.74 105.63,-75.53\"/>\n<polygon fill=\"black\" stroke=\"black\" points=\"108.2,-73.12 98.33,-69.28 103.65,-78.44 108.2,-73.12\"/>\n</g>\n<!-- 4 -->\n<g id=\"node5\" class=\"node\">\n<title>4</title>\n<path fill=\"#5ae996\" stroke=\"black\" d=\"M233.5,-68C233.5,-68 147,-68 147,-68 141,-68 135,-62 135,-56 135,-56 135,-12 135,-12 135,-6 141,0 147,0 147,0 233.5,0 233.5,0 239.5,0 245.5,-6 245.5,-12 245.5,-12 245.5,-56 245.5,-56 245.5,-62 239.5,-68 233.5,-68\"/>\n<text text-anchor=\"middle\" x=\"190.25\" y=\"-50.7\" font-family=\"Helvetica,sans-Serif\" font-size=\"14.00\">entropy = 0.592</text>\n<text text-anchor=\"middle\" x=\"190.25\" y=\"-35.7\" font-family=\"Helvetica,sans-Serif\" font-size=\"14.00\">samples = 7</text>\n<text text-anchor=\"middle\" x=\"190.25\" y=\"-20.7\" font-family=\"Helvetica,sans-Serif\" font-size=\"14.00\">value = [0, 6, 1]</text>\n<text text-anchor=\"middle\" x=\"190.25\" y=\"-5.7\" font-family=\"Helvetica,sans-Serif\" font-size=\"14.00\">class = class_1</text>\n</g>\n<!-- 2&#45;&gt;4 -->\n<g id=\"edge4\" class=\"edge\">\n<title>2&#45;&gt;4</title>\n<path fill=\"none\" stroke=\"black\" d=\"M187.74,-103.73C188.03,-95.88 188.33,-87.63 188.62,-79.67\"/>\n<polygon fill=\"black\" stroke=\"black\" points=\"192.11,-79.93 188.98,-69.81 185.12,-79.68 192.11,-79.93\"/>\n</g>\n<!-- 6 -->\n<g id=\"node7\" class=\"node\">\n<title>6</title>\n<path fill=\"#c09cf2\" stroke=\"black\" d=\"M369.5,-68C369.5,-68 283,-68 283,-68 277,-68 271,-62 271,-56 271,-56 271,-12 271,-12 271,-6 277,0 283,0 283,0 369.5,0 369.5,0 375.5,0 381.5,-6 381.5,-12 381.5,-12 381.5,-56 381.5,-56 381.5,-62 375.5,-68 369.5,-68\"/>\n<text text-anchor=\"middle\" x=\"326.25\" y=\"-50.7\" font-family=\"Helvetica,sans-Serif\" font-size=\"14.00\">entropy = 0.918</text>\n<text text-anchor=\"middle\" x=\"326.25\" y=\"-35.7\" font-family=\"Helvetica,sans-Serif\" font-size=\"14.00\">samples = 3</text>\n<text text-anchor=\"middle\" x=\"326.25\" y=\"-20.7\" font-family=\"Helvetica,sans-Serif\" font-size=\"14.00\">value = [0, 1, 2]</text>\n<text text-anchor=\"middle\" x=\"326.25\" y=\"-5.7\" font-family=\"Helvetica,sans-Serif\" font-size=\"14.00\">class = class_2</text>\n</g>\n<!-- 5&#45;&gt;6 -->\n<g id=\"edge6\" class=\"edge\">\n<title>5&#45;&gt;6</title>\n<path fill=\"none\" stroke=\"black\" d=\"M328.76,-103.73C328.47,-95.88 328.17,-87.63 327.88,-79.67\"/>\n<polygon fill=\"black\" stroke=\"black\" points=\"331.38,-79.68 327.52,-69.81 324.39,-79.93 331.38,-79.68\"/>\n</g>\n<!-- 7 -->\n<g id=\"node8\" class=\"node\">\n<title>7</title>\n<path fill=\"#40e686\" stroke=\"black\" d=\"M504.5,-68C504.5,-68 412,-68 412,-68 406,-68 400,-62 400,-56 400,-56 400,-12 400,-12 400,-6 406,0 412,0 412,0 504.5,0 504.5,0 510.5,0 516.5,-6 516.5,-12 516.5,-12 516.5,-56 516.5,-56 516.5,-62 510.5,-68 504.5,-68\"/>\n<text text-anchor=\"middle\" x=\"458.25\" y=\"-50.7\" font-family=\"Helvetica,sans-Serif\" font-size=\"14.00\">entropy = 0.216</text>\n<text text-anchor=\"middle\" x=\"458.25\" y=\"-35.7\" font-family=\"Helvetica,sans-Serif\" font-size=\"14.00\">samples = 29</text>\n<text text-anchor=\"middle\" x=\"458.25\" y=\"-20.7\" font-family=\"Helvetica,sans-Serif\" font-size=\"14.00\">value = [1, 28, 0]</text>\n<text text-anchor=\"middle\" x=\"458.25\" y=\"-5.7\" font-family=\"Helvetica,sans-Serif\" font-size=\"14.00\">class = class_1</text>\n</g>\n<!-- 5&#45;&gt;7 -->\n<g id=\"edge7\" class=\"edge\">\n<title>5&#45;&gt;7</title>\n<path fill=\"none\" stroke=\"black\" d=\"M377.91,-103.73C388.68,-94.51 400.11,-84.74 410.87,-75.53\"/>\n<polygon fill=\"black\" stroke=\"black\" points=\"412.85,-78.44 418.17,-69.28 408.3,-73.12 412.85,-78.44\"/>\n</g>\n<!-- 9 -->\n<g id=\"node10\" class=\"node\">\n<title>9</title>\n<path fill=\"#39e581\" stroke=\"black\" d=\"M554.5,-179.5C554.5,-179.5 462,-179.5 462,-179.5 456,-179.5 450,-173.5 450,-167.5 450,-167.5 450,-123.5 450,-123.5 450,-117.5 456,-111.5 462,-111.5 462,-111.5 554.5,-111.5 554.5,-111.5 560.5,-111.5 566.5,-117.5 566.5,-123.5 566.5,-123.5 566.5,-167.5 566.5,-167.5 566.5,-173.5 560.5,-179.5 554.5,-179.5\"/>\n<text text-anchor=\"middle\" x=\"508.25\" y=\"-162.2\" font-family=\"Helvetica,sans-Serif\" font-size=\"14.00\">entropy = 0.0</text>\n<text text-anchor=\"middle\" x=\"508.25\" y=\"-147.2\" font-family=\"Helvetica,sans-Serif\" font-size=\"14.00\">samples = 12</text>\n<text text-anchor=\"middle\" x=\"508.25\" y=\"-132.2\" font-family=\"Helvetica,sans-Serif\" font-size=\"14.00\">value = [0, 12, 0]</text>\n<text text-anchor=\"middle\" x=\"508.25\" y=\"-117.2\" font-family=\"Helvetica,sans-Serif\" font-size=\"14.00\">class = class_1</text>\n</g>\n<!-- 8&#45;&gt;9 -->\n<g id=\"edge9\" class=\"edge\">\n<title>8&#45;&gt;9</title>\n<path fill=\"none\" stroke=\"black\" d=\"M519.3,-222.58C517.83,-212.43 516.24,-201.5 514.74,-191.18\"/>\n<polygon fill=\"black\" stroke=\"black\" points=\"518.22,-190.75 513.31,-181.36 511.29,-191.76 518.22,-190.75\"/>\n</g>\n<!-- 10 -->\n<g id=\"node11\" class=\"node\">\n<title>10</title>\n<path fill=\"#e89253\" stroke=\"black\" d=\"M696.25,-187C696.25,-187 596.25,-187 596.25,-187 590.25,-187 584.25,-181 584.25,-175 584.25,-175 584.25,-116 584.25,-116 584.25,-110 590.25,-104 596.25,-104 596.25,-104 696.25,-104 696.25,-104 702.25,-104 708.25,-110 708.25,-116 708.25,-116 708.25,-175 708.25,-175 708.25,-181 702.25,-187 696.25,-187\"/>\n<text text-anchor=\"middle\" x=\"646.25\" y=\"-169.7\" font-family=\"Helvetica,sans-Serif\" font-size=\"14.00\">alcohol &lt;= 12.719</text>\n<text text-anchor=\"middle\" x=\"646.25\" y=\"-154.7\" font-family=\"Helvetica,sans-Serif\" font-size=\"14.00\">entropy = 0.523</text>\n<text text-anchor=\"middle\" x=\"646.25\" y=\"-139.7\" font-family=\"Helvetica,sans-Serif\" font-size=\"14.00\">samples = 51</text>\n<text text-anchor=\"middle\" x=\"646.25\" y=\"-124.7\" font-family=\"Helvetica,sans-Serif\" font-size=\"14.00\">value = [45, 6, 0]</text>\n<text text-anchor=\"middle\" x=\"646.25\" y=\"-109.7\" font-family=\"Helvetica,sans-Serif\" font-size=\"14.00\">class = class_0</text>\n</g>\n<!-- 8&#45;&gt;10 -->\n<g id=\"edge10\" class=\"edge\">\n<title>8&#45;&gt;10</title>\n<path fill=\"none\" stroke=\"black\" d=\"M567.57,-222.58C576.74,-213.71 586.53,-204.25 595.97,-195.12\"/>\n<polygon fill=\"black\" stroke=\"black\" points=\"598.31,-197.72 603.07,-188.25 593.45,-192.69 598.31,-197.72\"/>\n</g>\n<!-- 11 -->\n<g id=\"node12\" class=\"node\">\n<title>11</title>\n<path fill=\"#39e581\" stroke=\"black\" d=\"M662.75,-68C662.75,-68 577.75,-68 577.75,-68 571.75,-68 565.75,-62 565.75,-56 565.75,-56 565.75,-12 565.75,-12 565.75,-6 571.75,0 577.75,0 577.75,0 662.75,0 662.75,0 668.75,0 674.75,-6 674.75,-12 674.75,-12 674.75,-56 674.75,-56 674.75,-62 668.75,-68 662.75,-68\"/>\n<text text-anchor=\"middle\" x=\"620.25\" y=\"-50.7\" font-family=\"Helvetica,sans-Serif\" font-size=\"14.00\">entropy = 0.0</text>\n<text text-anchor=\"middle\" x=\"620.25\" y=\"-35.7\" font-family=\"Helvetica,sans-Serif\" font-size=\"14.00\">samples = 4</text>\n<text text-anchor=\"middle\" x=\"620.25\" y=\"-20.7\" font-family=\"Helvetica,sans-Serif\" font-size=\"14.00\">value = [0, 4, 0]</text>\n<text text-anchor=\"middle\" x=\"620.25\" y=\"-5.7\" font-family=\"Helvetica,sans-Serif\" font-size=\"14.00\">class = class_1</text>\n</g>\n<!-- 10&#45;&gt;11 -->\n<g id=\"edge11\" class=\"edge\">\n<title>10&#45;&gt;11</title>\n<path fill=\"none\" stroke=\"black\" d=\"M636.57,-103.73C634.68,-95.79 632.7,-87.44 630.79,-79.39\"/>\n<polygon fill=\"black\" stroke=\"black\" points=\"634.22,-78.69 628.51,-69.77 627.41,-80.31 634.22,-78.69\"/>\n</g>\n<!-- 12 -->\n<g id=\"node13\" class=\"node\">\n<title>12</title>\n<path fill=\"#e68742\" stroke=\"black\" d=\"M797.5,-68C797.5,-68 705,-68 705,-68 699,-68 693,-62 693,-56 693,-56 693,-12 693,-12 693,-6 699,0 705,0 705,0 797.5,0 797.5,0 803.5,0 809.5,-6 809.5,-12 809.5,-12 809.5,-56 809.5,-56 809.5,-62 803.5,-68 797.5,-68\"/>\n<text text-anchor=\"middle\" x=\"751.25\" y=\"-50.7\" font-family=\"Helvetica,sans-Serif\" font-size=\"14.00\">entropy = 0.254</text>\n<text text-anchor=\"middle\" x=\"751.25\" y=\"-35.7\" font-family=\"Helvetica,sans-Serif\" font-size=\"14.00\">samples = 47</text>\n<text text-anchor=\"middle\" x=\"751.25\" y=\"-20.7\" font-family=\"Helvetica,sans-Serif\" font-size=\"14.00\">value = [45, 2, 0]</text>\n<text text-anchor=\"middle\" x=\"751.25\" y=\"-5.7\" font-family=\"Helvetica,sans-Serif\" font-size=\"14.00\">class = class_0</text>\n</g>\n<!-- 10&#45;&gt;12 -->\n<g id=\"edge12\" class=\"edge\">\n<title>10&#45;&gt;12</title>\n<path fill=\"none\" stroke=\"black\" d=\"M685.35,-103.73C693.92,-94.79 703,-85.32 711.59,-76.36\"/>\n<polygon fill=\"black\" stroke=\"black\" points=\"713.88,-79.03 718.27,-69.39 708.82,-74.19 713.88,-79.03\"/>\n</g>\n</g>\n</svg>\n",
      "text/plain": [
       "<graphviz.sources.Source at 0x139cebad0>"
      ]
     },
     "execution_count": 218,
     "metadata": {},
     "output_type": "execute_result"
    }
   ],
   "execution_count": 218
  },
  {
   "metadata": {
    "ExecuteTime": {
     "end_time": "2024-11-14T21:34:32.394330Z",
     "start_time": "2024-11-14T21:34:32.391489Z"
    }
   },
   "cell_type": "code",
   "source": [
    "# 评估模型在测试集上的准确度\n",
    "score = clf.score(xtest, ytest)\n",
    "score  # 输出模型的准确度   # 修剪过，准确度更高 #但我自己测试 # min_samples_leaf=10, 这两个在效果并不好，所以不使用\n",
    "                                                        # min_samples_split=10"
   ],
   "id": "b6dc57e37900c6e0",
   "outputs": [
    {
     "data": {
      "text/plain": [
       "0.9814814814814815"
      ]
     },
     "execution_count": 219,
     "metadata": {},
     "output_type": "execute_result"
    }
   ],
   "execution_count": 219
  }
 ],
 "metadata": {
  "kernelspec": {
   "display_name": "Python 3",
   "language": "python",
   "name": "python3"
  },
  "language_info": {
   "codemirror_mode": {
    "name": "ipython",
    "version": 2
   },
   "file_extension": ".py",
   "mimetype": "text/x-python",
   "name": "python",
   "nbconvert_exporter": "python",
   "pygments_lexer": "ipython2",
   "version": "2.7.6"
  }
 },
 "nbformat": 4,
 "nbformat_minor": 5
}
